{
  "nbformat": 4,
  "nbformat_minor": 0,
  "metadata": {
    "colab": {
      "name": "Pap.ipynb",
      "provenance": [],
      "authorship_tag": "ABX9TyMtfSiMnORS0Tv5PhkSY5q/",
      "include_colab_link": true
    },
    "kernelspec": {
      "name": "python3",
      "display_name": "Python 3"
    },
    "language_info": {
      "name": "python"
    }
  },
  "cells": [
    {
      "cell_type": "markdown",
      "metadata": {
        "id": "view-in-github",
        "colab_type": "text"
      },
      "source": [
        "<a href=\"https://colab.research.google.com/github/AndyRevilla/datamuestra/blob/main/Pap.ipynb\" target=\"_parent\"><img src=\"https://colab.research.google.com/assets/colab-badge.svg\" alt=\"Open In Colab\"/></a>"
      ]
    },
    {
      "cell_type": "code",
      "execution_count": null,
      "metadata": {
        "id": "nwX5wbdYhZza"
      },
      "outputs": [],
      "source": [
        "import pandas as pd\n",
        "import numpy as np"
      ]
    },
    {
      "cell_type": "code",
      "source": [
        "df = pd.read_excel(\"/content/informe pap.xlsx\")\n",
        "del df['Cliente']\n",
        "del df['DNI']\n",
        "df.head()"
      ],
      "metadata": {
        "colab": {
          "base_uri": "https://localhost:8080/",
          "height": 337
        },
        "id": "lwauS4yNhhL0",
        "outputId": "4e997612-2969-4225-f932-78c91f3c6287"
      },
      "execution_count": null,
      "outputs": [
        {
          "output_type": "execute_result",
          "data": {
            "text/plain": [
              "   Comprobante               Fecha  HClinica                    PlanAtenc  \\\n",
              "0        87412 2022-01-03 17:00:44    629279  PLAN CHIMBOTE 01 PARTICULAR   \n",
              "1        87461 2022-01-05 08:05:38    632860  PLAN CHIMBOTE 02 PARTICULAR   \n",
              "2        87484 2022-01-05 11:36:44    457086  PLAN CHIMBOTE 01 PARTICULAR   \n",
              "3        87598 2022-01-08 15:24:54    700279  PLAN CHIMBOTE 01 PARTICULAR   \n",
              "4        87614 2022-01-10 10:50:01    780396  PLAN CHIMBOTE 03 PARTICULAR   \n",
              "\n",
              "   cantidad      Servicio  precio                                      Medico  \\\n",
              "0         1  PAPANICOLAOU      35  TORRES ESCOBAR LIZZIE CELESTE (PRESENCIAL)   \n",
              "1         1  PAPANICOLAOU      30       PAREDES PAREDES HUMBERTO (PRESENCIAL)   \n",
              "2         1  PAPANICOLAOU      35          GOICOCHEA IBARRA CORA (PRESENCIAL)   \n",
              "3         1  PAPANICOLAOU      35          GOICOCHEA IBARRA CORA (PRESENCIAL)   \n",
              "4         1  PAPANICOLAOU      20          GOICOCHEA IBARRA CORA (PRESENCIAL)   \n",
              "\n",
              "   Edad  \n",
              "0    46  \n",
              "1    22  \n",
              "2    41  \n",
              "3    40  \n",
              "4    44  "
            ],
            "text/html": [
              "\n",
              "  <div id=\"df-10ac8f54-3bf9-45d6-9832-4700bfb9df63\">\n",
              "    <div class=\"colab-df-container\">\n",
              "      <div>\n",
              "<style scoped>\n",
              "    .dataframe tbody tr th:only-of-type {\n",
              "        vertical-align: middle;\n",
              "    }\n",
              "\n",
              "    .dataframe tbody tr th {\n",
              "        vertical-align: top;\n",
              "    }\n",
              "\n",
              "    .dataframe thead th {\n",
              "        text-align: right;\n",
              "    }\n",
              "</style>\n",
              "<table border=\"1\" class=\"dataframe\">\n",
              "  <thead>\n",
              "    <tr style=\"text-align: right;\">\n",
              "      <th></th>\n",
              "      <th>Comprobante</th>\n",
              "      <th>Fecha</th>\n",
              "      <th>HClinica</th>\n",
              "      <th>PlanAtenc</th>\n",
              "      <th>cantidad</th>\n",
              "      <th>Servicio</th>\n",
              "      <th>precio</th>\n",
              "      <th>Medico</th>\n",
              "      <th>Edad</th>\n",
              "    </tr>\n",
              "  </thead>\n",
              "  <tbody>\n",
              "    <tr>\n",
              "      <th>0</th>\n",
              "      <td>87412</td>\n",
              "      <td>2022-01-03 17:00:44</td>\n",
              "      <td>629279</td>\n",
              "      <td>PLAN CHIMBOTE 01 PARTICULAR</td>\n",
              "      <td>1</td>\n",
              "      <td>PAPANICOLAOU</td>\n",
              "      <td>35</td>\n",
              "      <td>TORRES ESCOBAR LIZZIE CELESTE (PRESENCIAL)</td>\n",
              "      <td>46</td>\n",
              "    </tr>\n",
              "    <tr>\n",
              "      <th>1</th>\n",
              "      <td>87461</td>\n",
              "      <td>2022-01-05 08:05:38</td>\n",
              "      <td>632860</td>\n",
              "      <td>PLAN CHIMBOTE 02 PARTICULAR</td>\n",
              "      <td>1</td>\n",
              "      <td>PAPANICOLAOU</td>\n",
              "      <td>30</td>\n",
              "      <td>PAREDES PAREDES HUMBERTO (PRESENCIAL)</td>\n",
              "      <td>22</td>\n",
              "    </tr>\n",
              "    <tr>\n",
              "      <th>2</th>\n",
              "      <td>87484</td>\n",
              "      <td>2022-01-05 11:36:44</td>\n",
              "      <td>457086</td>\n",
              "      <td>PLAN CHIMBOTE 01 PARTICULAR</td>\n",
              "      <td>1</td>\n",
              "      <td>PAPANICOLAOU</td>\n",
              "      <td>35</td>\n",
              "      <td>GOICOCHEA IBARRA CORA (PRESENCIAL)</td>\n",
              "      <td>41</td>\n",
              "    </tr>\n",
              "    <tr>\n",
              "      <th>3</th>\n",
              "      <td>87598</td>\n",
              "      <td>2022-01-08 15:24:54</td>\n",
              "      <td>700279</td>\n",
              "      <td>PLAN CHIMBOTE 01 PARTICULAR</td>\n",
              "      <td>1</td>\n",
              "      <td>PAPANICOLAOU</td>\n",
              "      <td>35</td>\n",
              "      <td>GOICOCHEA IBARRA CORA (PRESENCIAL)</td>\n",
              "      <td>40</td>\n",
              "    </tr>\n",
              "    <tr>\n",
              "      <th>4</th>\n",
              "      <td>87614</td>\n",
              "      <td>2022-01-10 10:50:01</td>\n",
              "      <td>780396</td>\n",
              "      <td>PLAN CHIMBOTE 03 PARTICULAR</td>\n",
              "      <td>1</td>\n",
              "      <td>PAPANICOLAOU</td>\n",
              "      <td>20</td>\n",
              "      <td>GOICOCHEA IBARRA CORA (PRESENCIAL)</td>\n",
              "      <td>44</td>\n",
              "    </tr>\n",
              "  </tbody>\n",
              "</table>\n",
              "</div>\n",
              "      <button class=\"colab-df-convert\" onclick=\"convertToInteractive('df-10ac8f54-3bf9-45d6-9832-4700bfb9df63')\"\n",
              "              title=\"Convert this dataframe to an interactive table.\"\n",
              "              style=\"display:none;\">\n",
              "        \n",
              "  <svg xmlns=\"http://www.w3.org/2000/svg\" height=\"24px\"viewBox=\"0 0 24 24\"\n",
              "       width=\"24px\">\n",
              "    <path d=\"M0 0h24v24H0V0z\" fill=\"none\"/>\n",
              "    <path d=\"M18.56 5.44l.94 2.06.94-2.06 2.06-.94-2.06-.94-.94-2.06-.94 2.06-2.06.94zm-11 1L8.5 8.5l.94-2.06 2.06-.94-2.06-.94L8.5 2.5l-.94 2.06-2.06.94zm10 10l.94 2.06.94-2.06 2.06-.94-2.06-.94-.94-2.06-.94 2.06-2.06.94z\"/><path d=\"M17.41 7.96l-1.37-1.37c-.4-.4-.92-.59-1.43-.59-.52 0-1.04.2-1.43.59L10.3 9.45l-7.72 7.72c-.78.78-.78 2.05 0 2.83L4 21.41c.39.39.9.59 1.41.59.51 0 1.02-.2 1.41-.59l7.78-7.78 2.81-2.81c.8-.78.8-2.07 0-2.86zM5.41 20L4 18.59l7.72-7.72 1.47 1.35L5.41 20z\"/>\n",
              "  </svg>\n",
              "      </button>\n",
              "      \n",
              "  <style>\n",
              "    .colab-df-container {\n",
              "      display:flex;\n",
              "      flex-wrap:wrap;\n",
              "      gap: 12px;\n",
              "    }\n",
              "\n",
              "    .colab-df-convert {\n",
              "      background-color: #E8F0FE;\n",
              "      border: none;\n",
              "      border-radius: 50%;\n",
              "      cursor: pointer;\n",
              "      display: none;\n",
              "      fill: #1967D2;\n",
              "      height: 32px;\n",
              "      padding: 0 0 0 0;\n",
              "      width: 32px;\n",
              "    }\n",
              "\n",
              "    .colab-df-convert:hover {\n",
              "      background-color: #E2EBFA;\n",
              "      box-shadow: 0px 1px 2px rgba(60, 64, 67, 0.3), 0px 1px 3px 1px rgba(60, 64, 67, 0.15);\n",
              "      fill: #174EA6;\n",
              "    }\n",
              "\n",
              "    [theme=dark] .colab-df-convert {\n",
              "      background-color: #3B4455;\n",
              "      fill: #D2E3FC;\n",
              "    }\n",
              "\n",
              "    [theme=dark] .colab-df-convert:hover {\n",
              "      background-color: #434B5C;\n",
              "      box-shadow: 0px 1px 3px 1px rgba(0, 0, 0, 0.15);\n",
              "      filter: drop-shadow(0px 1px 2px rgba(0, 0, 0, 0.3));\n",
              "      fill: #FFFFFF;\n",
              "    }\n",
              "  </style>\n",
              "\n",
              "      <script>\n",
              "        const buttonEl =\n",
              "          document.querySelector('#df-10ac8f54-3bf9-45d6-9832-4700bfb9df63 button.colab-df-convert');\n",
              "        buttonEl.style.display =\n",
              "          google.colab.kernel.accessAllowed ? 'block' : 'none';\n",
              "\n",
              "        async function convertToInteractive(key) {\n",
              "          const element = document.querySelector('#df-10ac8f54-3bf9-45d6-9832-4700bfb9df63');\n",
              "          const dataTable =\n",
              "            await google.colab.kernel.invokeFunction('convertToInteractive',\n",
              "                                                     [key], {});\n",
              "          if (!dataTable) return;\n",
              "\n",
              "          const docLinkHtml = 'Like what you see? Visit the ' +\n",
              "            '<a target=\"_blank\" href=https://colab.research.google.com/notebooks/data_table.ipynb>data table notebook</a>'\n",
              "            + ' to learn more about interactive tables.';\n",
              "          element.innerHTML = '';\n",
              "          dataTable['output_type'] = 'display_data';\n",
              "          await google.colab.output.renderOutput(dataTable, element);\n",
              "          const docLink = document.createElement('div');\n",
              "          docLink.innerHTML = docLinkHtml;\n",
              "          element.appendChild(docLink);\n",
              "        }\n",
              "      </script>\n",
              "    </div>\n",
              "  </div>\n",
              "  "
            ]
          },
          "metadata": {},
          "execution_count": 41
        }
      ]
    },
    {
      "cell_type": "code",
      "source": [
        "df.describe()"
      ],
      "metadata": {
        "colab": {
          "base_uri": "https://localhost:8080/",
          "height": 300
        },
        "id": "EHaNVw5Khubs",
        "outputId": "9e23e992-d2a4-4239-f46d-458f7afe22b9"
      },
      "execution_count": null,
      "outputs": [
        {
          "output_type": "execute_result",
          "data": {
            "text/plain": [
              "        Comprobante       HClinica  cantidad      precio        Edad\n",
              "count    233.000000     233.000000     233.0  233.000000  233.000000\n",
              "mean   90158.463519  645960.742489       1.0   31.974249   37.836910\n",
              "std     1434.602074  136485.354494       0.0    5.470077   11.209564\n",
              "min    87412.000000  383178.000000       1.0   15.000000   18.000000\n",
              "25%    89020.000000  529754.000000       1.0   30.000000   29.000000\n",
              "50%    90217.000000  665344.000000       1.0   35.000000   37.000000\n",
              "75%    91341.000000  783963.000000       1.0   35.000000   45.000000\n",
              "max    92850.000000  792073.000000       1.0   35.000000   69.000000"
            ],
            "text/html": [
              "\n",
              "  <div id=\"df-97d39c16-2520-479c-ad81-3a352aad9038\">\n",
              "    <div class=\"colab-df-container\">\n",
              "      <div>\n",
              "<style scoped>\n",
              "    .dataframe tbody tr th:only-of-type {\n",
              "        vertical-align: middle;\n",
              "    }\n",
              "\n",
              "    .dataframe tbody tr th {\n",
              "        vertical-align: top;\n",
              "    }\n",
              "\n",
              "    .dataframe thead th {\n",
              "        text-align: right;\n",
              "    }\n",
              "</style>\n",
              "<table border=\"1\" class=\"dataframe\">\n",
              "  <thead>\n",
              "    <tr style=\"text-align: right;\">\n",
              "      <th></th>\n",
              "      <th>Comprobante</th>\n",
              "      <th>HClinica</th>\n",
              "      <th>cantidad</th>\n",
              "      <th>precio</th>\n",
              "      <th>Edad</th>\n",
              "    </tr>\n",
              "  </thead>\n",
              "  <tbody>\n",
              "    <tr>\n",
              "      <th>count</th>\n",
              "      <td>233.000000</td>\n",
              "      <td>233.000000</td>\n",
              "      <td>233.0</td>\n",
              "      <td>233.000000</td>\n",
              "      <td>233.000000</td>\n",
              "    </tr>\n",
              "    <tr>\n",
              "      <th>mean</th>\n",
              "      <td>90158.463519</td>\n",
              "      <td>645960.742489</td>\n",
              "      <td>1.0</td>\n",
              "      <td>31.974249</td>\n",
              "      <td>37.836910</td>\n",
              "    </tr>\n",
              "    <tr>\n",
              "      <th>std</th>\n",
              "      <td>1434.602074</td>\n",
              "      <td>136485.354494</td>\n",
              "      <td>0.0</td>\n",
              "      <td>5.470077</td>\n",
              "      <td>11.209564</td>\n",
              "    </tr>\n",
              "    <tr>\n",
              "      <th>min</th>\n",
              "      <td>87412.000000</td>\n",
              "      <td>383178.000000</td>\n",
              "      <td>1.0</td>\n",
              "      <td>15.000000</td>\n",
              "      <td>18.000000</td>\n",
              "    </tr>\n",
              "    <tr>\n",
              "      <th>25%</th>\n",
              "      <td>89020.000000</td>\n",
              "      <td>529754.000000</td>\n",
              "      <td>1.0</td>\n",
              "      <td>30.000000</td>\n",
              "      <td>29.000000</td>\n",
              "    </tr>\n",
              "    <tr>\n",
              "      <th>50%</th>\n",
              "      <td>90217.000000</td>\n",
              "      <td>665344.000000</td>\n",
              "      <td>1.0</td>\n",
              "      <td>35.000000</td>\n",
              "      <td>37.000000</td>\n",
              "    </tr>\n",
              "    <tr>\n",
              "      <th>75%</th>\n",
              "      <td>91341.000000</td>\n",
              "      <td>783963.000000</td>\n",
              "      <td>1.0</td>\n",
              "      <td>35.000000</td>\n",
              "      <td>45.000000</td>\n",
              "    </tr>\n",
              "    <tr>\n",
              "      <th>max</th>\n",
              "      <td>92850.000000</td>\n",
              "      <td>792073.000000</td>\n",
              "      <td>1.0</td>\n",
              "      <td>35.000000</td>\n",
              "      <td>69.000000</td>\n",
              "    </tr>\n",
              "  </tbody>\n",
              "</table>\n",
              "</div>\n",
              "      <button class=\"colab-df-convert\" onclick=\"convertToInteractive('df-97d39c16-2520-479c-ad81-3a352aad9038')\"\n",
              "              title=\"Convert this dataframe to an interactive table.\"\n",
              "              style=\"display:none;\">\n",
              "        \n",
              "  <svg xmlns=\"http://www.w3.org/2000/svg\" height=\"24px\"viewBox=\"0 0 24 24\"\n",
              "       width=\"24px\">\n",
              "    <path d=\"M0 0h24v24H0V0z\" fill=\"none\"/>\n",
              "    <path d=\"M18.56 5.44l.94 2.06.94-2.06 2.06-.94-2.06-.94-.94-2.06-.94 2.06-2.06.94zm-11 1L8.5 8.5l.94-2.06 2.06-.94-2.06-.94L8.5 2.5l-.94 2.06-2.06.94zm10 10l.94 2.06.94-2.06 2.06-.94-2.06-.94-.94-2.06-.94 2.06-2.06.94z\"/><path d=\"M17.41 7.96l-1.37-1.37c-.4-.4-.92-.59-1.43-.59-.52 0-1.04.2-1.43.59L10.3 9.45l-7.72 7.72c-.78.78-.78 2.05 0 2.83L4 21.41c.39.39.9.59 1.41.59.51 0 1.02-.2 1.41-.59l7.78-7.78 2.81-2.81c.8-.78.8-2.07 0-2.86zM5.41 20L4 18.59l7.72-7.72 1.47 1.35L5.41 20z\"/>\n",
              "  </svg>\n",
              "      </button>\n",
              "      \n",
              "  <style>\n",
              "    .colab-df-container {\n",
              "      display:flex;\n",
              "      flex-wrap:wrap;\n",
              "      gap: 12px;\n",
              "    }\n",
              "\n",
              "    .colab-df-convert {\n",
              "      background-color: #E8F0FE;\n",
              "      border: none;\n",
              "      border-radius: 50%;\n",
              "      cursor: pointer;\n",
              "      display: none;\n",
              "      fill: #1967D2;\n",
              "      height: 32px;\n",
              "      padding: 0 0 0 0;\n",
              "      width: 32px;\n",
              "    }\n",
              "\n",
              "    .colab-df-convert:hover {\n",
              "      background-color: #E2EBFA;\n",
              "      box-shadow: 0px 1px 2px rgba(60, 64, 67, 0.3), 0px 1px 3px 1px rgba(60, 64, 67, 0.15);\n",
              "      fill: #174EA6;\n",
              "    }\n",
              "\n",
              "    [theme=dark] .colab-df-convert {\n",
              "      background-color: #3B4455;\n",
              "      fill: #D2E3FC;\n",
              "    }\n",
              "\n",
              "    [theme=dark] .colab-df-convert:hover {\n",
              "      background-color: #434B5C;\n",
              "      box-shadow: 0px 1px 3px 1px rgba(0, 0, 0, 0.15);\n",
              "      filter: drop-shadow(0px 1px 2px rgba(0, 0, 0, 0.3));\n",
              "      fill: #FFFFFF;\n",
              "    }\n",
              "  </style>\n",
              "\n",
              "      <script>\n",
              "        const buttonEl =\n",
              "          document.querySelector('#df-97d39c16-2520-479c-ad81-3a352aad9038 button.colab-df-convert');\n",
              "        buttonEl.style.display =\n",
              "          google.colab.kernel.accessAllowed ? 'block' : 'none';\n",
              "\n",
              "        async function convertToInteractive(key) {\n",
              "          const element = document.querySelector('#df-97d39c16-2520-479c-ad81-3a352aad9038');\n",
              "          const dataTable =\n",
              "            await google.colab.kernel.invokeFunction('convertToInteractive',\n",
              "                                                     [key], {});\n",
              "          if (!dataTable) return;\n",
              "\n",
              "          const docLinkHtml = 'Like what you see? Visit the ' +\n",
              "            '<a target=\"_blank\" href=https://colab.research.google.com/notebooks/data_table.ipynb>data table notebook</a>'\n",
              "            + ' to learn more about interactive tables.';\n",
              "          element.innerHTML = '';\n",
              "          dataTable['output_type'] = 'display_data';\n",
              "          await google.colab.output.renderOutput(dataTable, element);\n",
              "          const docLink = document.createElement('div');\n",
              "          docLink.innerHTML = docLinkHtml;\n",
              "          element.appendChild(docLink);\n",
              "        }\n",
              "      </script>\n",
              "    </div>\n",
              "  </div>\n",
              "  "
            ]
          },
          "metadata": {},
          "execution_count": 42
        }
      ]
    },
    {
      "cell_type": "code",
      "source": [
        "import matplotlib.pyplot as plt"
      ],
      "metadata": {
        "id": "xLRyyucgh-FS"
      },
      "execution_count": null,
      "outputs": []
    },
    {
      "cell_type": "code",
      "source": [
        "!pip install plotly==5.1.0 "
      ],
      "metadata": {
        "colab": {
          "base_uri": "https://localhost:8080/"
        },
        "id": "3RYNveBAiqTa",
        "outputId": "f06ba7a3-0e03-4bc1-eead-8d323c7602c3"
      },
      "execution_count": null,
      "outputs": [
        {
          "output_type": "stream",
          "name": "stdout",
          "text": [
            "Looking in indexes: https://pypi.org/simple, https://us-python.pkg.dev/colab-wheels/public/simple/\n",
            "Collecting plotly==5.1.0\n",
            "  Downloading plotly-5.1.0-py2.py3-none-any.whl (20.6 MB)\n",
            "\u001b[K     |████████████████████████████████| 20.6 MB 1.8 MB/s \n",
            "\u001b[?25hRequirement already satisfied: six in /usr/local/lib/python3.7/dist-packages (from plotly==5.1.0) (1.15.0)\n",
            "Requirement already satisfied: tenacity>=6.2.0 in /usr/local/lib/python3.7/dist-packages (from plotly==5.1.0) (8.0.1)\n",
            "Installing collected packages: plotly\n",
            "  Attempting uninstall: plotly\n",
            "    Found existing installation: plotly 5.5.0\n",
            "    Uninstalling plotly-5.5.0:\n",
            "      Successfully uninstalled plotly-5.5.0\n",
            "Successfully installed plotly-5.1.0\n"
          ]
        }
      ]
    },
    {
      "cell_type": "code",
      "source": [
        "!pip install plotly-express==0.4.1"
      ],
      "metadata": {
        "colab": {
          "base_uri": "https://localhost:8080/"
        },
        "id": "pGxZJfVljRUQ",
        "outputId": "6806a2d5-6f1c-4a3e-a562-2aaf562a767a"
      },
      "execution_count": null,
      "outputs": [
        {
          "output_type": "stream",
          "name": "stdout",
          "text": [
            "Looking in indexes: https://pypi.org/simple, https://us-python.pkg.dev/colab-wheels/public/simple/\n",
            "Collecting plotly-express==0.4.1\n",
            "  Downloading plotly_express-0.4.1-py2.py3-none-any.whl (2.9 kB)\n",
            "Requirement already satisfied: statsmodels>=0.9.0 in /usr/local/lib/python3.7/dist-packages (from plotly-express==0.4.1) (0.10.2)\n",
            "Requirement already satisfied: patsy>=0.5 in /usr/local/lib/python3.7/dist-packages (from plotly-express==0.4.1) (0.5.2)\n",
            "Requirement already satisfied: plotly>=4.1.0 in /usr/local/lib/python3.7/dist-packages (from plotly-express==0.4.1) (5.1.0)\n",
            "Requirement already satisfied: numpy>=1.11 in /usr/local/lib/python3.7/dist-packages (from plotly-express==0.4.1) (1.21.6)\n",
            "Requirement already satisfied: scipy>=0.18 in /usr/local/lib/python3.7/dist-packages (from plotly-express==0.4.1) (1.7.3)\n",
            "Requirement already satisfied: pandas>=0.20.0 in /usr/local/lib/python3.7/dist-packages (from plotly-express==0.4.1) (1.3.5)\n",
            "Requirement already satisfied: python-dateutil>=2.7.3 in /usr/local/lib/python3.7/dist-packages (from pandas>=0.20.0->plotly-express==0.4.1) (2.8.2)\n",
            "Requirement already satisfied: pytz>=2017.3 in /usr/local/lib/python3.7/dist-packages (from pandas>=0.20.0->plotly-express==0.4.1) (2022.1)\n",
            "Requirement already satisfied: six in /usr/local/lib/python3.7/dist-packages (from patsy>=0.5->plotly-express==0.4.1) (1.15.0)\n",
            "Requirement already satisfied: tenacity>=6.2.0 in /usr/local/lib/python3.7/dist-packages (from plotly>=4.1.0->plotly-express==0.4.1) (8.0.1)\n",
            "Installing collected packages: plotly-express\n",
            "Successfully installed plotly-express-0.4.1\n"
          ]
        }
      ]
    },
    {
      "cell_type": "code",
      "source": [
        "import plotly.express as px"
      ],
      "metadata": {
        "id": "v5tQrGESjURf"
      },
      "execution_count": null,
      "outputs": []
    },
    {
      "cell_type": "code",
      "source": [
        "fig = px.bar(df, x= \"PlanAtenc\", y = \"cantidad\", color = \"PlanAtenc\", title=\"Atencion por plan\")\n",
        "fig.show()"
      ],
      "metadata": {
        "colab": {
          "base_uri": "https://localhost:8080/",
          "height": 542
        },
        "id": "kYtwRJyUkJ1O",
        "outputId": "b31e83aa-8bc1-45ed-c616-92ef8e43509e"
      },
      "execution_count": null,
      "outputs": [
        {
          "output_type": "display_data",
          "data": {
            "text/html": [
              "<html>\n",
              "<head><meta charset=\"utf-8\" /></head>\n",
              "<body>\n",
              "    <div>            <script src=\"https://cdnjs.cloudflare.com/ajax/libs/mathjax/2.7.5/MathJax.js?config=TeX-AMS-MML_SVG\"></script><script type=\"text/javascript\">if (window.MathJax) {MathJax.Hub.Config({SVG: {font: \"STIX-Web\"}});}</script>                <script type=\"text/javascript\">window.PlotlyConfig = {MathJaxConfig: 'local'};</script>\n",
              "        <script src=\"https://cdn.plot.ly/plotly-2.2.0.min.js\"></script>                <div id=\"02c40607-701e-4cd5-8e5d-088b60bcc657\" class=\"plotly-graph-div\" style=\"height:525px; width:100%;\"></div>            <script type=\"text/javascript\">                                    window.PLOTLYENV=window.PLOTLYENV || {};                                    if (document.getElementById(\"02c40607-701e-4cd5-8e5d-088b60bcc657\")) {                    Plotly.newPlot(                        \"02c40607-701e-4cd5-8e5d-088b60bcc657\",                        [{\"alignmentgroup\":\"True\",\"hovertemplate\":\"PlanAtenc=%{x}<br>cantidad=%{y}<extra></extra>\",\"legendgroup\":\"PLAN CHIMBOTE 01 PARTICULAR\",\"marker\":{\"color\":\"#636efa\",\"pattern\":{\"shape\":\"\"}},\"name\":\"PLAN CHIMBOTE 01 PARTICULAR\",\"offsetgroup\":\"PLAN CHIMBOTE 01 PARTICULAR\",\"orientation\":\"v\",\"showlegend\":true,\"textposition\":\"auto\",\"type\":\"bar\",\"x\":[\"PLAN CHIMBOTE 01 PARTICULAR\",\"PLAN CHIMBOTE 01 PARTICULAR\",\"PLAN CHIMBOTE 01 PARTICULAR\",\"PLAN CHIMBOTE 01 PARTICULAR\",\"PLAN CHIMBOTE 01 PARTICULAR\",\"PLAN CHIMBOTE 01 PARTICULAR\",\"PLAN CHIMBOTE 01 PARTICULAR\",\"PLAN CHIMBOTE 01 PARTICULAR\",\"PLAN CHIMBOTE 01 PARTICULAR\",\"PLAN CHIMBOTE 01 PARTICULAR\",\"PLAN CHIMBOTE 01 PARTICULAR\",\"PLAN CHIMBOTE 01 PARTICULAR\",\"PLAN CHIMBOTE 01 PARTICULAR\",\"PLAN CHIMBOTE 01 PARTICULAR\",\"PLAN CHIMBOTE 01 PARTICULAR\",\"PLAN CHIMBOTE 01 PARTICULAR\",\"PLAN CHIMBOTE 01 PARTICULAR\",\"PLAN CHIMBOTE 01 PARTICULAR\",\"PLAN CHIMBOTE 01 PARTICULAR\",\"PLAN CHIMBOTE 01 PARTICULAR\",\"PLAN CHIMBOTE 01 PARTICULAR\",\"PLAN CHIMBOTE 01 PARTICULAR\",\"PLAN CHIMBOTE 01 PARTICULAR\",\"PLAN CHIMBOTE 01 PARTICULAR\",\"PLAN CHIMBOTE 01 PARTICULAR\",\"PLAN CHIMBOTE 01 PARTICULAR\",\"PLAN CHIMBOTE 01 PARTICULAR\",\"PLAN CHIMBOTE 01 PARTICULAR\",\"PLAN CHIMBOTE 01 PARTICULAR\",\"PLAN CHIMBOTE 01 PARTICULAR\",\"PLAN CHIMBOTE 01 PARTICULAR\",\"PLAN CHIMBOTE 01 PARTICULAR\",\"PLAN CHIMBOTE 01 PARTICULAR\",\"PLAN CHIMBOTE 01 PARTICULAR\",\"PLAN CHIMBOTE 01 PARTICULAR\",\"PLAN CHIMBOTE 01 PARTICULAR\",\"PLAN CHIMBOTE 01 PARTICULAR\",\"PLAN CHIMBOTE 01 PARTICULAR\",\"PLAN CHIMBOTE 01 PARTICULAR\",\"PLAN CHIMBOTE 01 PARTICULAR\",\"PLAN CHIMBOTE 01 PARTICULAR\",\"PLAN CHIMBOTE 01 PARTICULAR\",\"PLAN CHIMBOTE 01 PARTICULAR\",\"PLAN CHIMBOTE 01 PARTICULAR\",\"PLAN CHIMBOTE 01 PARTICULAR\",\"PLAN CHIMBOTE 01 PARTICULAR\",\"PLAN CHIMBOTE 01 PARTICULAR\",\"PLAN CHIMBOTE 01 PARTICULAR\",\"PLAN CHIMBOTE 01 PARTICULAR\",\"PLAN CHIMBOTE 01 PARTICULAR\",\"PLAN CHIMBOTE 01 PARTICULAR\",\"PLAN CHIMBOTE 01 PARTICULAR\",\"PLAN CHIMBOTE 01 PARTICULAR\",\"PLAN CHIMBOTE 01 PARTICULAR\",\"PLAN CHIMBOTE 01 PARTICULAR\",\"PLAN CHIMBOTE 01 PARTICULAR\",\"PLAN CHIMBOTE 01 PARTICULAR\",\"PLAN CHIMBOTE 01 PARTICULAR\",\"PLAN CHIMBOTE 01 PARTICULAR\",\"PLAN CHIMBOTE 01 PARTICULAR\",\"PLAN CHIMBOTE 01 PARTICULAR\",\"PLAN CHIMBOTE 01 PARTICULAR\",\"PLAN CHIMBOTE 01 PARTICULAR\",\"PLAN CHIMBOTE 01 PARTICULAR\",\"PLAN CHIMBOTE 01 PARTICULAR\",\"PLAN CHIMBOTE 01 PARTICULAR\",\"PLAN CHIMBOTE 01 PARTICULAR\",\"PLAN CHIMBOTE 01 PARTICULAR\",\"PLAN CHIMBOTE 01 PARTICULAR\",\"PLAN CHIMBOTE 01 PARTICULAR\",\"PLAN CHIMBOTE 01 PARTICULAR\",\"PLAN CHIMBOTE 01 PARTICULAR\",\"PLAN CHIMBOTE 01 PARTICULAR\",\"PLAN CHIMBOTE 01 PARTICULAR\",\"PLAN CHIMBOTE 01 PARTICULAR\",\"PLAN CHIMBOTE 01 PARTICULAR\",\"PLAN CHIMBOTE 01 PARTICULAR\",\"PLAN CHIMBOTE 01 PARTICULAR\",\"PLAN CHIMBOTE 01 PARTICULAR\",\"PLAN CHIMBOTE 01 PARTICULAR\",\"PLAN CHIMBOTE 01 PARTICULAR\",\"PLAN CHIMBOTE 01 PARTICULAR\",\"PLAN CHIMBOTE 01 PARTICULAR\",\"PLAN CHIMBOTE 01 PARTICULAR\",\"PLAN CHIMBOTE 01 PARTICULAR\",\"PLAN CHIMBOTE 01 PARTICULAR\",\"PLAN CHIMBOTE 01 PARTICULAR\",\"PLAN CHIMBOTE 01 PARTICULAR\",\"PLAN CHIMBOTE 01 PARTICULAR\",\"PLAN CHIMBOTE 01 PARTICULAR\",\"PLAN CHIMBOTE 01 PARTICULAR\",\"PLAN CHIMBOTE 01 PARTICULAR\",\"PLAN CHIMBOTE 01 PARTICULAR\",\"PLAN CHIMBOTE 01 PARTICULAR\",\"PLAN CHIMBOTE 01 PARTICULAR\",\"PLAN CHIMBOTE 01 PARTICULAR\",\"PLAN CHIMBOTE 01 PARTICULAR\",\"PLAN CHIMBOTE 01 PARTICULAR\",\"PLAN CHIMBOTE 01 PARTICULAR\",\"PLAN CHIMBOTE 01 PARTICULAR\",\"PLAN CHIMBOTE 01 PARTICULAR\",\"PLAN CHIMBOTE 01 PARTICULAR\",\"PLAN CHIMBOTE 01 PARTICULAR\",\"PLAN CHIMBOTE 01 PARTICULAR\",\"PLAN CHIMBOTE 01 PARTICULAR\",\"PLAN CHIMBOTE 01 PARTICULAR\",\"PLAN CHIMBOTE 01 PARTICULAR\",\"PLAN CHIMBOTE 01 PARTICULAR\",\"PLAN CHIMBOTE 01 PARTICULAR\",\"PLAN CHIMBOTE 01 PARTICULAR\",\"PLAN CHIMBOTE 01 PARTICULAR\",\"PLAN CHIMBOTE 01 PARTICULAR\",\"PLAN CHIMBOTE 01 PARTICULAR\",\"PLAN CHIMBOTE 01 PARTICULAR\",\"PLAN CHIMBOTE 01 PARTICULAR\",\"PLAN CHIMBOTE 01 PARTICULAR\",\"PLAN CHIMBOTE 01 PARTICULAR\",\"PLAN CHIMBOTE 01 PARTICULAR\",\"PLAN CHIMBOTE 01 PARTICULAR\",\"PLAN CHIMBOTE 01 PARTICULAR\",\"PLAN CHIMBOTE 01 PARTICULAR\",\"PLAN CHIMBOTE 01 PARTICULAR\",\"PLAN CHIMBOTE 01 PARTICULAR\",\"PLAN CHIMBOTE 01 PARTICULAR\",\"PLAN CHIMBOTE 01 PARTICULAR\",\"PLAN CHIMBOTE 01 PARTICULAR\",\"PLAN CHIMBOTE 01 PARTICULAR\",\"PLAN CHIMBOTE 01 PARTICULAR\",\"PLAN CHIMBOTE 01 PARTICULAR\",\"PLAN CHIMBOTE 01 PARTICULAR\",\"PLAN CHIMBOTE 01 PARTICULAR\",\"PLAN CHIMBOTE 01 PARTICULAR\",\"PLAN CHIMBOTE 01 PARTICULAR\",\"PLAN CHIMBOTE 01 PARTICULAR\",\"PLAN CHIMBOTE 01 PARTICULAR\",\"PLAN CHIMBOTE 01 PARTICULAR\",\"PLAN CHIMBOTE 01 PARTICULAR\",\"PLAN CHIMBOTE 01 PARTICULAR\",\"PLAN CHIMBOTE 01 PARTICULAR\",\"PLAN CHIMBOTE 01 PARTICULAR\",\"PLAN CHIMBOTE 01 PARTICULAR\",\"PLAN CHIMBOTE 01 PARTICULAR\",\"PLAN CHIMBOTE 01 PARTICULAR\",\"PLAN CHIMBOTE 01 PARTICULAR\",\"PLAN CHIMBOTE 01 PARTICULAR\",\"PLAN CHIMBOTE 01 PARTICULAR\",\"PLAN CHIMBOTE 01 PARTICULAR\",\"PLAN CHIMBOTE 01 PARTICULAR\",\"PLAN CHIMBOTE 01 PARTICULAR\",\"PLAN CHIMBOTE 01 PARTICULAR\",\"PLAN CHIMBOTE 01 PARTICULAR\",\"PLAN CHIMBOTE 01 PARTICULAR\",\"PLAN CHIMBOTE 01 PARTICULAR\",\"PLAN CHIMBOTE 01 PARTICULAR\",\"PLAN CHIMBOTE 01 PARTICULAR\",\"PLAN CHIMBOTE 01 PARTICULAR\",\"PLAN CHIMBOTE 01 PARTICULAR\",\"PLAN CHIMBOTE 01 PARTICULAR\",\"PLAN CHIMBOTE 01 PARTICULAR\",\"PLAN CHIMBOTE 01 PARTICULAR\",\"PLAN CHIMBOTE 01 PARTICULAR\",\"PLAN CHIMBOTE 01 PARTICULAR\",\"PLAN CHIMBOTE 01 PARTICULAR\",\"PLAN CHIMBOTE 01 PARTICULAR\"],\"xaxis\":\"x\",\"y\":[1,1,1,1,1,1,1,1,1,1,1,1,1,1,1,1,1,1,1,1,1,1,1,1,1,1,1,1,1,1,1,1,1,1,1,1,1,1,1,1,1,1,1,1,1,1,1,1,1,1,1,1,1,1,1,1,1,1,1,1,1,1,1,1,1,1,1,1,1,1,1,1,1,1,1,1,1,1,1,1,1,1,1,1,1,1,1,1,1,1,1,1,1,1,1,1,1,1,1,1,1,1,1,1,1,1,1,1,1,1,1,1,1,1,1,1,1,1,1,1,1,1,1,1,1,1,1,1,1,1,1,1,1,1,1,1,1,1,1,1,1,1,1,1,1,1,1,1,1,1,1,1,1,1,1,1,1,1,1,1,1,1,1,1],\"yaxis\":\"y\"},{\"alignmentgroup\":\"True\",\"hovertemplate\":\"PlanAtenc=%{x}<br>cantidad=%{y}<extra></extra>\",\"legendgroup\":\"PLAN CHIMBOTE 02 PARTICULAR\",\"marker\":{\"color\":\"#EF553B\",\"pattern\":{\"shape\":\"\"}},\"name\":\"PLAN CHIMBOTE 02 PARTICULAR\",\"offsetgroup\":\"PLAN CHIMBOTE 02 PARTICULAR\",\"orientation\":\"v\",\"showlegend\":true,\"textposition\":\"auto\",\"type\":\"bar\",\"x\":[\"PLAN CHIMBOTE 02 PARTICULAR\",\"PLAN CHIMBOTE 02 PARTICULAR\",\"PLAN CHIMBOTE 02 PARTICULAR\",\"PLAN CHIMBOTE 02 PARTICULAR\",\"PLAN CHIMBOTE 02 PARTICULAR\",\"PLAN CHIMBOTE 02 PARTICULAR\",\"PLAN CHIMBOTE 02 PARTICULAR\",\"PLAN CHIMBOTE 02 PARTICULAR\",\"PLAN CHIMBOTE 02 PARTICULAR\",\"PLAN CHIMBOTE 02 PARTICULAR\",\"PLAN CHIMBOTE 02 PARTICULAR\",\"PLAN CHIMBOTE 02 PARTICULAR\",\"PLAN CHIMBOTE 02 PARTICULAR\",\"PLAN CHIMBOTE 02 PARTICULAR\",\"PLAN CHIMBOTE 02 PARTICULAR\",\"PLAN CHIMBOTE 02 PARTICULAR\",\"PLAN CHIMBOTE 02 PARTICULAR\",\"PLAN CHIMBOTE 02 PARTICULAR\",\"PLAN CHIMBOTE 02 PARTICULAR\",\"PLAN CHIMBOTE 02 PARTICULAR\",\"PLAN CHIMBOTE 02 PARTICULAR\",\"PLAN CHIMBOTE 02 PARTICULAR\",\"PLAN CHIMBOTE 02 PARTICULAR\",\"PLAN CHIMBOTE 02 PARTICULAR\",\"PLAN CHIMBOTE 02 PARTICULAR\",\"PLAN CHIMBOTE 02 PARTICULAR\",\"PLAN CHIMBOTE 02 PARTICULAR\",\"PLAN CHIMBOTE 02 PARTICULAR\",\"PLAN CHIMBOTE 02 PARTICULAR\",\"PLAN CHIMBOTE 02 PARTICULAR\",\"PLAN CHIMBOTE 02 PARTICULAR\",\"PLAN CHIMBOTE 02 PARTICULAR\",\"PLAN CHIMBOTE 02 PARTICULAR\",\"PLAN CHIMBOTE 02 PARTICULAR\"],\"xaxis\":\"x\",\"y\":[1,1,1,1,1,1,1,1,1,1,1,1,1,1,1,1,1,1,1,1,1,1,1,1,1,1,1,1,1,1,1,1,1,1],\"yaxis\":\"y\"},{\"alignmentgroup\":\"True\",\"hovertemplate\":\"PlanAtenc=%{x}<br>cantidad=%{y}<extra></extra>\",\"legendgroup\":\"PLAN CHIMBOTE 03 PARTICULAR\",\"marker\":{\"color\":\"#00cc96\",\"pattern\":{\"shape\":\"\"}},\"name\":\"PLAN CHIMBOTE 03 PARTICULAR\",\"offsetgroup\":\"PLAN CHIMBOTE 03 PARTICULAR\",\"orientation\":\"v\",\"showlegend\":true,\"textposition\":\"auto\",\"type\":\"bar\",\"x\":[\"PLAN CHIMBOTE 03 PARTICULAR\",\"PLAN CHIMBOTE 03 PARTICULAR\",\"PLAN CHIMBOTE 03 PARTICULAR\",\"PLAN CHIMBOTE 03 PARTICULAR\",\"PLAN CHIMBOTE 03 PARTICULAR\",\"PLAN CHIMBOTE 03 PARTICULAR\",\"PLAN CHIMBOTE 03 PARTICULAR\",\"PLAN CHIMBOTE 03 PARTICULAR\",\"PLAN CHIMBOTE 03 PARTICULAR\",\"PLAN CHIMBOTE 03 PARTICULAR\",\"PLAN CHIMBOTE 03 PARTICULAR\",\"PLAN CHIMBOTE 03 PARTICULAR\",\"PLAN CHIMBOTE 03 PARTICULAR\",\"PLAN CHIMBOTE 03 PARTICULAR\",\"PLAN CHIMBOTE 03 PARTICULAR\",\"PLAN CHIMBOTE 03 PARTICULAR\",\"PLAN CHIMBOTE 03 PARTICULAR\",\"PLAN CHIMBOTE 03 PARTICULAR\",\"PLAN CHIMBOTE 03 PARTICULAR\",\"PLAN CHIMBOTE 03 PARTICULAR\",\"PLAN CHIMBOTE 03 PARTICULAR\",\"PLAN CHIMBOTE 03 PARTICULAR\",\"PLAN CHIMBOTE 03 PARTICULAR\",\"PLAN CHIMBOTE 03 PARTICULAR\",\"PLAN CHIMBOTE 03 PARTICULAR\",\"PLAN CHIMBOTE 03 PARTICULAR\",\"PLAN CHIMBOTE 03 PARTICULAR\",\"PLAN CHIMBOTE 03 PARTICULAR\",\"PLAN CHIMBOTE 03 PARTICULAR\",\"PLAN CHIMBOTE 03 PARTICULAR\",\"PLAN CHIMBOTE 03 PARTICULAR\",\"PLAN CHIMBOTE 03 PARTICULAR\",\"PLAN CHIMBOTE 03 PARTICULAR\"],\"xaxis\":\"x\",\"y\":[1,1,1,1,1,1,1,1,1,1,1,1,1,1,1,1,1,1,1,1,1,1,1,1,1,1,1,1,1,1,1,1,1],\"yaxis\":\"y\"},{\"alignmentgroup\":\"True\",\"hovertemplate\":\"PlanAtenc=%{x}<br>cantidad=%{y}<extra></extra>\",\"legendgroup\":\"PLAN CHIMBOTE 04 PARTICULAR\",\"marker\":{\"color\":\"#ab63fa\",\"pattern\":{\"shape\":\"\"}},\"name\":\"PLAN CHIMBOTE 04 PARTICULAR\",\"offsetgroup\":\"PLAN CHIMBOTE 04 PARTICULAR\",\"orientation\":\"v\",\"showlegend\":true,\"textposition\":\"auto\",\"type\":\"bar\",\"x\":[\"PLAN CHIMBOTE 04 PARTICULAR\",\"PLAN CHIMBOTE 04 PARTICULAR\"],\"xaxis\":\"x\",\"y\":[1,1],\"yaxis\":\"y\"}],                        {\"barmode\":\"relative\",\"legend\":{\"title\":{\"text\":\"PlanAtenc\"},\"tracegroupgap\":0},\"template\":{\"data\":{\"bar\":[{\"error_x\":{\"color\":\"#2a3f5f\"},\"error_y\":{\"color\":\"#2a3f5f\"},\"marker\":{\"line\":{\"color\":\"#E5ECF6\",\"width\":0.5},\"pattern\":{\"fillmode\":\"overlay\",\"size\":10,\"solidity\":0.2}},\"type\":\"bar\"}],\"barpolar\":[{\"marker\":{\"line\":{\"color\":\"#E5ECF6\",\"width\":0.5},\"pattern\":{\"fillmode\":\"overlay\",\"size\":10,\"solidity\":0.2}},\"type\":\"barpolar\"}],\"carpet\":[{\"aaxis\":{\"endlinecolor\":\"#2a3f5f\",\"gridcolor\":\"white\",\"linecolor\":\"white\",\"minorgridcolor\":\"white\",\"startlinecolor\":\"#2a3f5f\"},\"baxis\":{\"endlinecolor\":\"#2a3f5f\",\"gridcolor\":\"white\",\"linecolor\":\"white\",\"minorgridcolor\":\"white\",\"startlinecolor\":\"#2a3f5f\"},\"type\":\"carpet\"}],\"choropleth\":[{\"colorbar\":{\"outlinewidth\":0,\"ticks\":\"\"},\"type\":\"choropleth\"}],\"contour\":[{\"colorbar\":{\"outlinewidth\":0,\"ticks\":\"\"},\"colorscale\":[[0.0,\"#0d0887\"],[0.1111111111111111,\"#46039f\"],[0.2222222222222222,\"#7201a8\"],[0.3333333333333333,\"#9c179e\"],[0.4444444444444444,\"#bd3786\"],[0.5555555555555556,\"#d8576b\"],[0.6666666666666666,\"#ed7953\"],[0.7777777777777778,\"#fb9f3a\"],[0.8888888888888888,\"#fdca26\"],[1.0,\"#f0f921\"]],\"type\":\"contour\"}],\"contourcarpet\":[{\"colorbar\":{\"outlinewidth\":0,\"ticks\":\"\"},\"type\":\"contourcarpet\"}],\"heatmap\":[{\"colorbar\":{\"outlinewidth\":0,\"ticks\":\"\"},\"colorscale\":[[0.0,\"#0d0887\"],[0.1111111111111111,\"#46039f\"],[0.2222222222222222,\"#7201a8\"],[0.3333333333333333,\"#9c179e\"],[0.4444444444444444,\"#bd3786\"],[0.5555555555555556,\"#d8576b\"],[0.6666666666666666,\"#ed7953\"],[0.7777777777777778,\"#fb9f3a\"],[0.8888888888888888,\"#fdca26\"],[1.0,\"#f0f921\"]],\"type\":\"heatmap\"}],\"heatmapgl\":[{\"colorbar\":{\"outlinewidth\":0,\"ticks\":\"\"},\"colorscale\":[[0.0,\"#0d0887\"],[0.1111111111111111,\"#46039f\"],[0.2222222222222222,\"#7201a8\"],[0.3333333333333333,\"#9c179e\"],[0.4444444444444444,\"#bd3786\"],[0.5555555555555556,\"#d8576b\"],[0.6666666666666666,\"#ed7953\"],[0.7777777777777778,\"#fb9f3a\"],[0.8888888888888888,\"#fdca26\"],[1.0,\"#f0f921\"]],\"type\":\"heatmapgl\"}],\"histogram\":[{\"marker\":{\"pattern\":{\"fillmode\":\"overlay\",\"size\":10,\"solidity\":0.2}},\"type\":\"histogram\"}],\"histogram2d\":[{\"colorbar\":{\"outlinewidth\":0,\"ticks\":\"\"},\"colorscale\":[[0.0,\"#0d0887\"],[0.1111111111111111,\"#46039f\"],[0.2222222222222222,\"#7201a8\"],[0.3333333333333333,\"#9c179e\"],[0.4444444444444444,\"#bd3786\"],[0.5555555555555556,\"#d8576b\"],[0.6666666666666666,\"#ed7953\"],[0.7777777777777778,\"#fb9f3a\"],[0.8888888888888888,\"#fdca26\"],[1.0,\"#f0f921\"]],\"type\":\"histogram2d\"}],\"histogram2dcontour\":[{\"colorbar\":{\"outlinewidth\":0,\"ticks\":\"\"},\"colorscale\":[[0.0,\"#0d0887\"],[0.1111111111111111,\"#46039f\"],[0.2222222222222222,\"#7201a8\"],[0.3333333333333333,\"#9c179e\"],[0.4444444444444444,\"#bd3786\"],[0.5555555555555556,\"#d8576b\"],[0.6666666666666666,\"#ed7953\"],[0.7777777777777778,\"#fb9f3a\"],[0.8888888888888888,\"#fdca26\"],[1.0,\"#f0f921\"]],\"type\":\"histogram2dcontour\"}],\"mesh3d\":[{\"colorbar\":{\"outlinewidth\":0,\"ticks\":\"\"},\"type\":\"mesh3d\"}],\"parcoords\":[{\"line\":{\"colorbar\":{\"outlinewidth\":0,\"ticks\":\"\"}},\"type\":\"parcoords\"}],\"pie\":[{\"automargin\":true,\"type\":\"pie\"}],\"scatter\":[{\"marker\":{\"colorbar\":{\"outlinewidth\":0,\"ticks\":\"\"}},\"type\":\"scatter\"}],\"scatter3d\":[{\"line\":{\"colorbar\":{\"outlinewidth\":0,\"ticks\":\"\"}},\"marker\":{\"colorbar\":{\"outlinewidth\":0,\"ticks\":\"\"}},\"type\":\"scatter3d\"}],\"scattercarpet\":[{\"marker\":{\"colorbar\":{\"outlinewidth\":0,\"ticks\":\"\"}},\"type\":\"scattercarpet\"}],\"scattergeo\":[{\"marker\":{\"colorbar\":{\"outlinewidth\":0,\"ticks\":\"\"}},\"type\":\"scattergeo\"}],\"scattergl\":[{\"marker\":{\"colorbar\":{\"outlinewidth\":0,\"ticks\":\"\"}},\"type\":\"scattergl\"}],\"scattermapbox\":[{\"marker\":{\"colorbar\":{\"outlinewidth\":0,\"ticks\":\"\"}},\"type\":\"scattermapbox\"}],\"scatterpolar\":[{\"marker\":{\"colorbar\":{\"outlinewidth\":0,\"ticks\":\"\"}},\"type\":\"scatterpolar\"}],\"scatterpolargl\":[{\"marker\":{\"colorbar\":{\"outlinewidth\":0,\"ticks\":\"\"}},\"type\":\"scatterpolargl\"}],\"scatterternary\":[{\"marker\":{\"colorbar\":{\"outlinewidth\":0,\"ticks\":\"\"}},\"type\":\"scatterternary\"}],\"surface\":[{\"colorbar\":{\"outlinewidth\":0,\"ticks\":\"\"},\"colorscale\":[[0.0,\"#0d0887\"],[0.1111111111111111,\"#46039f\"],[0.2222222222222222,\"#7201a8\"],[0.3333333333333333,\"#9c179e\"],[0.4444444444444444,\"#bd3786\"],[0.5555555555555556,\"#d8576b\"],[0.6666666666666666,\"#ed7953\"],[0.7777777777777778,\"#fb9f3a\"],[0.8888888888888888,\"#fdca26\"],[1.0,\"#f0f921\"]],\"type\":\"surface\"}],\"table\":[{\"cells\":{\"fill\":{\"color\":\"#EBF0F8\"},\"line\":{\"color\":\"white\"}},\"header\":{\"fill\":{\"color\":\"#C8D4E3\"},\"line\":{\"color\":\"white\"}},\"type\":\"table\"}]},\"layout\":{\"annotationdefaults\":{\"arrowcolor\":\"#2a3f5f\",\"arrowhead\":0,\"arrowwidth\":1},\"autotypenumbers\":\"strict\",\"coloraxis\":{\"colorbar\":{\"outlinewidth\":0,\"ticks\":\"\"}},\"colorscale\":{\"diverging\":[[0,\"#8e0152\"],[0.1,\"#c51b7d\"],[0.2,\"#de77ae\"],[0.3,\"#f1b6da\"],[0.4,\"#fde0ef\"],[0.5,\"#f7f7f7\"],[0.6,\"#e6f5d0\"],[0.7,\"#b8e186\"],[0.8,\"#7fbc41\"],[0.9,\"#4d9221\"],[1,\"#276419\"]],\"sequential\":[[0.0,\"#0d0887\"],[0.1111111111111111,\"#46039f\"],[0.2222222222222222,\"#7201a8\"],[0.3333333333333333,\"#9c179e\"],[0.4444444444444444,\"#bd3786\"],[0.5555555555555556,\"#d8576b\"],[0.6666666666666666,\"#ed7953\"],[0.7777777777777778,\"#fb9f3a\"],[0.8888888888888888,\"#fdca26\"],[1.0,\"#f0f921\"]],\"sequentialminus\":[[0.0,\"#0d0887\"],[0.1111111111111111,\"#46039f\"],[0.2222222222222222,\"#7201a8\"],[0.3333333333333333,\"#9c179e\"],[0.4444444444444444,\"#bd3786\"],[0.5555555555555556,\"#d8576b\"],[0.6666666666666666,\"#ed7953\"],[0.7777777777777778,\"#fb9f3a\"],[0.8888888888888888,\"#fdca26\"],[1.0,\"#f0f921\"]]},\"colorway\":[\"#636efa\",\"#EF553B\",\"#00cc96\",\"#ab63fa\",\"#FFA15A\",\"#19d3f3\",\"#FF6692\",\"#B6E880\",\"#FF97FF\",\"#FECB52\"],\"font\":{\"color\":\"#2a3f5f\"},\"geo\":{\"bgcolor\":\"white\",\"lakecolor\":\"white\",\"landcolor\":\"#E5ECF6\",\"showlakes\":true,\"showland\":true,\"subunitcolor\":\"white\"},\"hoverlabel\":{\"align\":\"left\"},\"hovermode\":\"closest\",\"mapbox\":{\"style\":\"light\"},\"paper_bgcolor\":\"white\",\"plot_bgcolor\":\"#E5ECF6\",\"polar\":{\"angularaxis\":{\"gridcolor\":\"white\",\"linecolor\":\"white\",\"ticks\":\"\"},\"bgcolor\":\"#E5ECF6\",\"radialaxis\":{\"gridcolor\":\"white\",\"linecolor\":\"white\",\"ticks\":\"\"}},\"scene\":{\"xaxis\":{\"backgroundcolor\":\"#E5ECF6\",\"gridcolor\":\"white\",\"gridwidth\":2,\"linecolor\":\"white\",\"showbackground\":true,\"ticks\":\"\",\"zerolinecolor\":\"white\"},\"yaxis\":{\"backgroundcolor\":\"#E5ECF6\",\"gridcolor\":\"white\",\"gridwidth\":2,\"linecolor\":\"white\",\"showbackground\":true,\"ticks\":\"\",\"zerolinecolor\":\"white\"},\"zaxis\":{\"backgroundcolor\":\"#E5ECF6\",\"gridcolor\":\"white\",\"gridwidth\":2,\"linecolor\":\"white\",\"showbackground\":true,\"ticks\":\"\",\"zerolinecolor\":\"white\"}},\"shapedefaults\":{\"line\":{\"color\":\"#2a3f5f\"}},\"ternary\":{\"aaxis\":{\"gridcolor\":\"white\",\"linecolor\":\"white\",\"ticks\":\"\"},\"baxis\":{\"gridcolor\":\"white\",\"linecolor\":\"white\",\"ticks\":\"\"},\"bgcolor\":\"#E5ECF6\",\"caxis\":{\"gridcolor\":\"white\",\"linecolor\":\"white\",\"ticks\":\"\"}},\"title\":{\"x\":0.05},\"xaxis\":{\"automargin\":true,\"gridcolor\":\"white\",\"linecolor\":\"white\",\"ticks\":\"\",\"title\":{\"standoff\":15},\"zerolinecolor\":\"white\",\"zerolinewidth\":2},\"yaxis\":{\"automargin\":true,\"gridcolor\":\"white\",\"linecolor\":\"white\",\"ticks\":\"\",\"title\":{\"standoff\":15},\"zerolinecolor\":\"white\",\"zerolinewidth\":2}}},\"title\":{\"text\":\"Atencion por plan\"},\"xaxis\":{\"anchor\":\"y\",\"categoryarray\":[\"PLAN CHIMBOTE 01 PARTICULAR\",\"PLAN CHIMBOTE 02 PARTICULAR\",\"PLAN CHIMBOTE 03 PARTICULAR\",\"PLAN CHIMBOTE 04 PARTICULAR\"],\"categoryorder\":\"array\",\"domain\":[0.0,1.0],\"title\":{\"text\":\"PlanAtenc\"}},\"yaxis\":{\"anchor\":\"x\",\"domain\":[0.0,1.0],\"title\":{\"text\":\"cantidad\"}}},                        {\"responsive\": true}                    ).then(function(){\n",
              "                            \n",
              "var gd = document.getElementById('02c40607-701e-4cd5-8e5d-088b60bcc657');\n",
              "var x = new MutationObserver(function (mutations, observer) {{\n",
              "        var display = window.getComputedStyle(gd).display;\n",
              "        if (!display || display === 'none') {{\n",
              "            console.log([gd, 'removed!']);\n",
              "            Plotly.purge(gd);\n",
              "            observer.disconnect();\n",
              "        }}\n",
              "}});\n",
              "\n",
              "// Listen for the removal of the full notebook cells\n",
              "var notebookContainer = gd.closest('#notebook-container');\n",
              "if (notebookContainer) {{\n",
              "    x.observe(notebookContainer, {childList: true});\n",
              "}}\n",
              "\n",
              "// Listen for the clearing of the current output cell\n",
              "var outputEl = gd.closest('.output');\n",
              "if (outputEl) {{\n",
              "    x.observe(outputEl, {childList: true});\n",
              "}}\n",
              "\n",
              "                        })                };                            </script>        </div>\n",
              "</body>\n",
              "</html>"
            ]
          },
          "metadata": {}
        }
      ]
    },
    {
      "cell_type": "code",
      "source": [
        "fig = px.bar(df, x= \"Medico\", y = \"cantidad\",color = \"Medico\")\n",
        "fig.show()"
      ],
      "metadata": {
        "colab": {
          "base_uri": "https://localhost:8080/",
          "height": 542
        },
        "id": "q9_x-r_wlDnL",
        "outputId": "f923b111-f070-49f7-ed0c-cae8c7b43bf8"
      },
      "execution_count": null,
      "outputs": [
        {
          "output_type": "display_data",
          "data": {
            "text/html": [
              "<html>\n",
              "<head><meta charset=\"utf-8\" /></head>\n",
              "<body>\n",
              "    <div>            <script src=\"https://cdnjs.cloudflare.com/ajax/libs/mathjax/2.7.5/MathJax.js?config=TeX-AMS-MML_SVG\"></script><script type=\"text/javascript\">if (window.MathJax) {MathJax.Hub.Config({SVG: {font: \"STIX-Web\"}});}</script>                <script type=\"text/javascript\">window.PlotlyConfig = {MathJaxConfig: 'local'};</script>\n",
              "        <script src=\"https://cdn.plot.ly/plotly-2.2.0.min.js\"></script>                <div id=\"11314f12-d4da-407c-9e67-32f2248f6b96\" class=\"plotly-graph-div\" style=\"height:525px; width:100%;\"></div>            <script type=\"text/javascript\">                                    window.PLOTLYENV=window.PLOTLYENV || {};                                    if (document.getElementById(\"11314f12-d4da-407c-9e67-32f2248f6b96\")) {                    Plotly.newPlot(                        \"11314f12-d4da-407c-9e67-32f2248f6b96\",                        [{\"alignmentgroup\":\"True\",\"hovertemplate\":\"Medico=%{x}<br>cantidad=%{y}<extra></extra>\",\"legendgroup\":\"TORRES ESCOBAR LIZZIE CELESTE (PRESENCIAL)\",\"marker\":{\"color\":\"#636efa\",\"pattern\":{\"shape\":\"\"}},\"name\":\"TORRES ESCOBAR LIZZIE CELESTE (PRESENCIAL)\",\"offsetgroup\":\"TORRES ESCOBAR LIZZIE CELESTE (PRESENCIAL)\",\"orientation\":\"v\",\"showlegend\":true,\"textposition\":\"auto\",\"type\":\"bar\",\"x\":[\"TORRES ESCOBAR LIZZIE CELESTE (PRESENCIAL)\",\"TORRES ESCOBAR LIZZIE CELESTE (PRESENCIAL)\",\"TORRES ESCOBAR LIZZIE CELESTE (PRESENCIAL)\",\"TORRES ESCOBAR LIZZIE CELESTE (PRESENCIAL)\",\"TORRES ESCOBAR LIZZIE CELESTE (PRESENCIAL)\",\"TORRES ESCOBAR LIZZIE CELESTE (PRESENCIAL)\",\"TORRES ESCOBAR LIZZIE CELESTE (PRESENCIAL)\",\"TORRES ESCOBAR LIZZIE CELESTE (PRESENCIAL)\",\"TORRES ESCOBAR LIZZIE CELESTE (PRESENCIAL)\",\"TORRES ESCOBAR LIZZIE CELESTE (PRESENCIAL)\",\"TORRES ESCOBAR LIZZIE CELESTE (PRESENCIAL)\",\"TORRES ESCOBAR LIZZIE CELESTE (PRESENCIAL)\",\"TORRES ESCOBAR LIZZIE CELESTE (PRESENCIAL)\",\"TORRES ESCOBAR LIZZIE CELESTE (PRESENCIAL)\",\"TORRES ESCOBAR LIZZIE CELESTE (PRESENCIAL)\",\"TORRES ESCOBAR LIZZIE CELESTE (PRESENCIAL)\",\"TORRES ESCOBAR LIZZIE CELESTE (PRESENCIAL)\",\"TORRES ESCOBAR LIZZIE CELESTE (PRESENCIAL)\",\"TORRES ESCOBAR LIZZIE CELESTE (PRESENCIAL)\",\"TORRES ESCOBAR LIZZIE CELESTE (PRESENCIAL)\",\"TORRES ESCOBAR LIZZIE CELESTE (PRESENCIAL)\",\"TORRES ESCOBAR LIZZIE CELESTE (PRESENCIAL)\",\"TORRES ESCOBAR LIZZIE CELESTE (PRESENCIAL)\",\"TORRES ESCOBAR LIZZIE CELESTE (PRESENCIAL)\",\"TORRES ESCOBAR LIZZIE CELESTE (PRESENCIAL)\",\"TORRES ESCOBAR LIZZIE CELESTE (PRESENCIAL)\",\"TORRES ESCOBAR LIZZIE CELESTE (PRESENCIAL)\",\"TORRES ESCOBAR LIZZIE CELESTE (PRESENCIAL)\",\"TORRES ESCOBAR LIZZIE CELESTE (PRESENCIAL)\",\"TORRES ESCOBAR LIZZIE CELESTE (PRESENCIAL)\",\"TORRES ESCOBAR LIZZIE CELESTE (PRESENCIAL)\",\"TORRES ESCOBAR LIZZIE CELESTE (PRESENCIAL)\",\"TORRES ESCOBAR LIZZIE CELESTE (PRESENCIAL)\",\"TORRES ESCOBAR LIZZIE CELESTE (PRESENCIAL)\",\"TORRES ESCOBAR LIZZIE CELESTE (PRESENCIAL)\",\"TORRES ESCOBAR LIZZIE CELESTE (PRESENCIAL)\",\"TORRES ESCOBAR LIZZIE CELESTE (PRESENCIAL)\",\"TORRES ESCOBAR LIZZIE CELESTE (PRESENCIAL)\",\"TORRES ESCOBAR LIZZIE CELESTE (PRESENCIAL)\",\"TORRES ESCOBAR LIZZIE CELESTE (PRESENCIAL)\",\"TORRES ESCOBAR LIZZIE CELESTE (PRESENCIAL)\",\"TORRES ESCOBAR LIZZIE CELESTE (PRESENCIAL)\",\"TORRES ESCOBAR LIZZIE CELESTE (PRESENCIAL)\",\"TORRES ESCOBAR LIZZIE CELESTE (PRESENCIAL)\",\"TORRES ESCOBAR LIZZIE CELESTE (PRESENCIAL)\",\"TORRES ESCOBAR LIZZIE CELESTE (PRESENCIAL)\",\"TORRES ESCOBAR LIZZIE CELESTE (PRESENCIAL)\",\"TORRES ESCOBAR LIZZIE CELESTE (PRESENCIAL)\",\"TORRES ESCOBAR LIZZIE CELESTE (PRESENCIAL)\",\"TORRES ESCOBAR LIZZIE CELESTE (PRESENCIAL)\",\"TORRES ESCOBAR LIZZIE CELESTE (PRESENCIAL)\",\"TORRES ESCOBAR LIZZIE CELESTE (PRESENCIAL)\",\"TORRES ESCOBAR LIZZIE CELESTE (PRESENCIAL)\",\"TORRES ESCOBAR LIZZIE CELESTE (PRESENCIAL)\",\"TORRES ESCOBAR LIZZIE CELESTE (PRESENCIAL)\",\"TORRES ESCOBAR LIZZIE CELESTE (PRESENCIAL)\",\"TORRES ESCOBAR LIZZIE CELESTE (PRESENCIAL)\",\"TORRES ESCOBAR LIZZIE CELESTE (PRESENCIAL)\",\"TORRES ESCOBAR LIZZIE CELESTE (PRESENCIAL)\",\"TORRES ESCOBAR LIZZIE CELESTE (PRESENCIAL)\",\"TORRES ESCOBAR LIZZIE CELESTE (PRESENCIAL)\",\"TORRES ESCOBAR LIZZIE CELESTE (PRESENCIAL)\",\"TORRES ESCOBAR LIZZIE CELESTE (PRESENCIAL)\",\"TORRES ESCOBAR LIZZIE CELESTE (PRESENCIAL)\",\"TORRES ESCOBAR LIZZIE CELESTE (PRESENCIAL)\",\"TORRES ESCOBAR LIZZIE CELESTE (PRESENCIAL)\",\"TORRES ESCOBAR LIZZIE CELESTE (PRESENCIAL)\",\"TORRES ESCOBAR LIZZIE CELESTE (PRESENCIAL)\",\"TORRES ESCOBAR LIZZIE CELESTE (PRESENCIAL)\",\"TORRES ESCOBAR LIZZIE CELESTE (PRESENCIAL)\",\"TORRES ESCOBAR LIZZIE CELESTE (PRESENCIAL)\",\"TORRES ESCOBAR LIZZIE CELESTE (PRESENCIAL)\",\"TORRES ESCOBAR LIZZIE CELESTE (PRESENCIAL)\",\"TORRES ESCOBAR LIZZIE CELESTE (PRESENCIAL)\",\"TORRES ESCOBAR LIZZIE CELESTE (PRESENCIAL)\",\"TORRES ESCOBAR LIZZIE CELESTE (PRESENCIAL)\",\"TORRES ESCOBAR LIZZIE CELESTE (PRESENCIAL)\",\"TORRES ESCOBAR LIZZIE CELESTE (PRESENCIAL)\",\"TORRES ESCOBAR LIZZIE CELESTE (PRESENCIAL)\",\"TORRES ESCOBAR LIZZIE CELESTE (PRESENCIAL)\",\"TORRES ESCOBAR LIZZIE CELESTE (PRESENCIAL)\",\"TORRES ESCOBAR LIZZIE CELESTE (PRESENCIAL)\",\"TORRES ESCOBAR LIZZIE CELESTE (PRESENCIAL)\",\"TORRES ESCOBAR LIZZIE CELESTE (PRESENCIAL)\",\"TORRES ESCOBAR LIZZIE CELESTE (PRESENCIAL)\",\"TORRES ESCOBAR LIZZIE CELESTE (PRESENCIAL)\",\"TORRES ESCOBAR LIZZIE CELESTE (PRESENCIAL)\",\"TORRES ESCOBAR LIZZIE CELESTE (PRESENCIAL)\",\"TORRES ESCOBAR LIZZIE CELESTE (PRESENCIAL)\",\"TORRES ESCOBAR LIZZIE CELESTE (PRESENCIAL)\",\"TORRES ESCOBAR LIZZIE CELESTE (PRESENCIAL)\",\"TORRES ESCOBAR LIZZIE CELESTE (PRESENCIAL)\",\"TORRES ESCOBAR LIZZIE CELESTE (PRESENCIAL)\",\"TORRES ESCOBAR LIZZIE CELESTE (PRESENCIAL)\",\"TORRES ESCOBAR LIZZIE CELESTE (PRESENCIAL)\",\"TORRES ESCOBAR LIZZIE CELESTE (PRESENCIAL)\",\"TORRES ESCOBAR LIZZIE CELESTE (PRESENCIAL)\",\"TORRES ESCOBAR LIZZIE CELESTE (PRESENCIAL)\",\"TORRES ESCOBAR LIZZIE CELESTE (PRESENCIAL)\",\"TORRES ESCOBAR LIZZIE CELESTE (PRESENCIAL)\",\"TORRES ESCOBAR LIZZIE CELESTE (PRESENCIAL)\",\"TORRES ESCOBAR LIZZIE CELESTE (PRESENCIAL)\",\"TORRES ESCOBAR LIZZIE CELESTE (PRESENCIAL)\",\"TORRES ESCOBAR LIZZIE CELESTE (PRESENCIAL)\",\"TORRES ESCOBAR LIZZIE CELESTE (PRESENCIAL)\",\"TORRES ESCOBAR LIZZIE CELESTE (PRESENCIAL)\",\"TORRES ESCOBAR LIZZIE CELESTE (PRESENCIAL)\",\"TORRES ESCOBAR LIZZIE CELESTE (PRESENCIAL)\",\"TORRES ESCOBAR LIZZIE CELESTE (PRESENCIAL)\"],\"xaxis\":\"x\",\"y\":[1,1,1,1,1,1,1,1,1,1,1,1,1,1,1,1,1,1,1,1,1,1,1,1,1,1,1,1,1,1,1,1,1,1,1,1,1,1,1,1,1,1,1,1,1,1,1,1,1,1,1,1,1,1,1,1,1,1,1,1,1,1,1,1,1,1,1,1,1,1,1,1,1,1,1,1,1,1,1,1,1,1,1,1,1,1,1,1,1,1,1,1,1,1,1,1,1,1,1,1,1,1,1,1,1,1,1,1,1],\"yaxis\":\"y\"},{\"alignmentgroup\":\"True\",\"hovertemplate\":\"Medico=%{x}<br>cantidad=%{y}<extra></extra>\",\"legendgroup\":\"PAREDES PAREDES HUMBERTO (PRESENCIAL)\",\"marker\":{\"color\":\"#EF553B\",\"pattern\":{\"shape\":\"\"}},\"name\":\"PAREDES PAREDES HUMBERTO (PRESENCIAL)\",\"offsetgroup\":\"PAREDES PAREDES HUMBERTO (PRESENCIAL)\",\"orientation\":\"v\",\"showlegend\":true,\"textposition\":\"auto\",\"type\":\"bar\",\"x\":[\"PAREDES PAREDES HUMBERTO (PRESENCIAL)\",\"PAREDES PAREDES HUMBERTO (PRESENCIAL)\",\"PAREDES PAREDES HUMBERTO (PRESENCIAL)\",\"PAREDES PAREDES HUMBERTO (PRESENCIAL)\",\"PAREDES PAREDES HUMBERTO (PRESENCIAL)\",\"PAREDES PAREDES HUMBERTO (PRESENCIAL)\",\"PAREDES PAREDES HUMBERTO (PRESENCIAL)\",\"PAREDES PAREDES HUMBERTO (PRESENCIAL)\",\"PAREDES PAREDES HUMBERTO (PRESENCIAL)\",\"PAREDES PAREDES HUMBERTO (PRESENCIAL)\",\"PAREDES PAREDES HUMBERTO (PRESENCIAL)\",\"PAREDES PAREDES HUMBERTO (PRESENCIAL)\"],\"xaxis\":\"x\",\"y\":[1,1,1,1,1,1,1,1,1,1,1,1],\"yaxis\":\"y\"},{\"alignmentgroup\":\"True\",\"hovertemplate\":\"Medico=%{x}<br>cantidad=%{y}<extra></extra>\",\"legendgroup\":\"GOICOCHEA IBARRA CORA (PRESENCIAL)\",\"marker\":{\"color\":\"#00cc96\",\"pattern\":{\"shape\":\"\"}},\"name\":\"GOICOCHEA IBARRA CORA (PRESENCIAL)\",\"offsetgroup\":\"GOICOCHEA IBARRA CORA (PRESENCIAL)\",\"orientation\":\"v\",\"showlegend\":true,\"textposition\":\"auto\",\"type\":\"bar\",\"x\":[\"GOICOCHEA IBARRA CORA (PRESENCIAL)\",\"GOICOCHEA IBARRA CORA (PRESENCIAL)\",\"GOICOCHEA IBARRA CORA (PRESENCIAL)\",\"GOICOCHEA IBARRA CORA (PRESENCIAL)\",\"GOICOCHEA IBARRA CORA (PRESENCIAL)\",\"GOICOCHEA IBARRA CORA (PRESENCIAL)\",\"GOICOCHEA IBARRA CORA (PRESENCIAL)\",\"GOICOCHEA IBARRA CORA (PRESENCIAL)\",\"GOICOCHEA IBARRA CORA (PRESENCIAL)\",\"GOICOCHEA IBARRA CORA (PRESENCIAL)\",\"GOICOCHEA IBARRA CORA (PRESENCIAL)\",\"GOICOCHEA IBARRA CORA (PRESENCIAL)\",\"GOICOCHEA IBARRA CORA (PRESENCIAL)\",\"GOICOCHEA IBARRA CORA (PRESENCIAL)\",\"GOICOCHEA IBARRA CORA (PRESENCIAL)\",\"GOICOCHEA IBARRA CORA (PRESENCIAL)\",\"GOICOCHEA IBARRA CORA (PRESENCIAL)\",\"GOICOCHEA IBARRA CORA (PRESENCIAL)\",\"GOICOCHEA IBARRA CORA (PRESENCIAL)\",\"GOICOCHEA IBARRA CORA (PRESENCIAL)\",\"GOICOCHEA IBARRA CORA (PRESENCIAL)\",\"GOICOCHEA IBARRA CORA (PRESENCIAL)\",\"GOICOCHEA IBARRA CORA (PRESENCIAL)\",\"GOICOCHEA IBARRA CORA (PRESENCIAL)\",\"GOICOCHEA IBARRA CORA (PRESENCIAL)\",\"GOICOCHEA IBARRA CORA (PRESENCIAL)\",\"GOICOCHEA IBARRA CORA (PRESENCIAL)\",\"GOICOCHEA IBARRA CORA (PRESENCIAL)\",\"GOICOCHEA IBARRA CORA (PRESENCIAL)\",\"GOICOCHEA IBARRA CORA (PRESENCIAL)\",\"GOICOCHEA IBARRA CORA (PRESENCIAL)\",\"GOICOCHEA IBARRA CORA (PRESENCIAL)\",\"GOICOCHEA IBARRA CORA (PRESENCIAL)\",\"GOICOCHEA IBARRA CORA (PRESENCIAL)\",\"GOICOCHEA IBARRA CORA (PRESENCIAL)\",\"GOICOCHEA IBARRA CORA (PRESENCIAL)\",\"GOICOCHEA IBARRA CORA (PRESENCIAL)\",\"GOICOCHEA IBARRA CORA (PRESENCIAL)\",\"GOICOCHEA IBARRA CORA (PRESENCIAL)\",\"GOICOCHEA IBARRA CORA (PRESENCIAL)\",\"GOICOCHEA IBARRA CORA (PRESENCIAL)\",\"GOICOCHEA IBARRA CORA (PRESENCIAL)\",\"GOICOCHEA IBARRA CORA (PRESENCIAL)\",\"GOICOCHEA IBARRA CORA (PRESENCIAL)\",\"GOICOCHEA IBARRA CORA (PRESENCIAL)\",\"GOICOCHEA IBARRA CORA (PRESENCIAL)\",\"GOICOCHEA IBARRA CORA (PRESENCIAL)\",\"GOICOCHEA IBARRA CORA (PRESENCIAL)\",\"GOICOCHEA IBARRA CORA (PRESENCIAL)\",\"GOICOCHEA IBARRA CORA (PRESENCIAL)\",\"GOICOCHEA IBARRA CORA (PRESENCIAL)\",\"GOICOCHEA IBARRA CORA (PRESENCIAL)\",\"GOICOCHEA IBARRA CORA (PRESENCIAL)\",\"GOICOCHEA IBARRA CORA (PRESENCIAL)\",\"GOICOCHEA IBARRA CORA (PRESENCIAL)\",\"GOICOCHEA IBARRA CORA (PRESENCIAL)\",\"GOICOCHEA IBARRA CORA (PRESENCIAL)\",\"GOICOCHEA IBARRA CORA (PRESENCIAL)\",\"GOICOCHEA IBARRA CORA (PRESENCIAL)\",\"GOICOCHEA IBARRA CORA (PRESENCIAL)\",\"GOICOCHEA IBARRA CORA (PRESENCIAL)\",\"GOICOCHEA IBARRA CORA (PRESENCIAL)\",\"GOICOCHEA IBARRA CORA (PRESENCIAL)\",\"GOICOCHEA IBARRA CORA (PRESENCIAL)\",\"GOICOCHEA IBARRA CORA (PRESENCIAL)\",\"GOICOCHEA IBARRA CORA (PRESENCIAL)\",\"GOICOCHEA IBARRA CORA (PRESENCIAL)\",\"GOICOCHEA IBARRA CORA (PRESENCIAL)\",\"GOICOCHEA IBARRA CORA (PRESENCIAL)\",\"GOICOCHEA IBARRA CORA (PRESENCIAL)\",\"GOICOCHEA IBARRA CORA (PRESENCIAL)\",\"GOICOCHEA IBARRA CORA (PRESENCIAL)\",\"GOICOCHEA IBARRA CORA (PRESENCIAL)\",\"GOICOCHEA IBARRA CORA (PRESENCIAL)\",\"GOICOCHEA IBARRA CORA (PRESENCIAL)\",\"GOICOCHEA IBARRA CORA (PRESENCIAL)\",\"GOICOCHEA IBARRA CORA (PRESENCIAL)\",\"GOICOCHEA IBARRA CORA (PRESENCIAL)\",\"GOICOCHEA IBARRA CORA (PRESENCIAL)\",\"GOICOCHEA IBARRA CORA (PRESENCIAL)\",\"GOICOCHEA IBARRA CORA (PRESENCIAL)\",\"GOICOCHEA IBARRA CORA (PRESENCIAL)\",\"GOICOCHEA IBARRA CORA (PRESENCIAL)\",\"GOICOCHEA IBARRA CORA (PRESENCIAL)\",\"GOICOCHEA IBARRA CORA (PRESENCIAL)\",\"GOICOCHEA IBARRA CORA (PRESENCIAL)\",\"GOICOCHEA IBARRA CORA (PRESENCIAL)\",\"GOICOCHEA IBARRA CORA (PRESENCIAL)\",\"GOICOCHEA IBARRA CORA (PRESENCIAL)\",\"GOICOCHEA IBARRA CORA (PRESENCIAL)\",\"GOICOCHEA IBARRA CORA (PRESENCIAL)\",\"GOICOCHEA IBARRA CORA (PRESENCIAL)\",\"GOICOCHEA IBARRA CORA (PRESENCIAL)\",\"GOICOCHEA IBARRA CORA (PRESENCIAL)\",\"GOICOCHEA IBARRA CORA (PRESENCIAL)\",\"GOICOCHEA IBARRA CORA (PRESENCIAL)\",\"GOICOCHEA IBARRA CORA (PRESENCIAL)\",\"GOICOCHEA IBARRA CORA (PRESENCIAL)\",\"GOICOCHEA IBARRA CORA (PRESENCIAL)\",\"GOICOCHEA IBARRA CORA (PRESENCIAL)\",\"GOICOCHEA IBARRA CORA (PRESENCIAL)\",\"GOICOCHEA IBARRA CORA (PRESENCIAL)\",\"GOICOCHEA IBARRA CORA (PRESENCIAL)\",\"GOICOCHEA IBARRA CORA (PRESENCIAL)\",\"GOICOCHEA IBARRA CORA (PRESENCIAL)\",\"GOICOCHEA IBARRA CORA (PRESENCIAL)\",\"GOICOCHEA IBARRA CORA (PRESENCIAL)\",\"GOICOCHEA IBARRA CORA (PRESENCIAL)\",\"GOICOCHEA IBARRA CORA (PRESENCIAL)\",\"GOICOCHEA IBARRA CORA (PRESENCIAL)\",\"GOICOCHEA IBARRA CORA (PRESENCIAL)\",\"GOICOCHEA IBARRA CORA (PRESENCIAL)\"],\"xaxis\":\"x\",\"y\":[1,1,1,1,1,1,1,1,1,1,1,1,1,1,1,1,1,1,1,1,1,1,1,1,1,1,1,1,1,1,1,1,1,1,1,1,1,1,1,1,1,1,1,1,1,1,1,1,1,1,1,1,1,1,1,1,1,1,1,1,1,1,1,1,1,1,1,1,1,1,1,1,1,1,1,1,1,1,1,1,1,1,1,1,1,1,1,1,1,1,1,1,1,1,1,1,1,1,1,1,1,1,1,1,1,1,1,1,1,1,1,1],\"yaxis\":\"y\"}],                        {\"barmode\":\"relative\",\"legend\":{\"title\":{\"text\":\"Medico\"},\"tracegroupgap\":0},\"margin\":{\"t\":60},\"template\":{\"data\":{\"bar\":[{\"error_x\":{\"color\":\"#2a3f5f\"},\"error_y\":{\"color\":\"#2a3f5f\"},\"marker\":{\"line\":{\"color\":\"#E5ECF6\",\"width\":0.5},\"pattern\":{\"fillmode\":\"overlay\",\"size\":10,\"solidity\":0.2}},\"type\":\"bar\"}],\"barpolar\":[{\"marker\":{\"line\":{\"color\":\"#E5ECF6\",\"width\":0.5},\"pattern\":{\"fillmode\":\"overlay\",\"size\":10,\"solidity\":0.2}},\"type\":\"barpolar\"}],\"carpet\":[{\"aaxis\":{\"endlinecolor\":\"#2a3f5f\",\"gridcolor\":\"white\",\"linecolor\":\"white\",\"minorgridcolor\":\"white\",\"startlinecolor\":\"#2a3f5f\"},\"baxis\":{\"endlinecolor\":\"#2a3f5f\",\"gridcolor\":\"white\",\"linecolor\":\"white\",\"minorgridcolor\":\"white\",\"startlinecolor\":\"#2a3f5f\"},\"type\":\"carpet\"}],\"choropleth\":[{\"colorbar\":{\"outlinewidth\":0,\"ticks\":\"\"},\"type\":\"choropleth\"}],\"contour\":[{\"colorbar\":{\"outlinewidth\":0,\"ticks\":\"\"},\"colorscale\":[[0.0,\"#0d0887\"],[0.1111111111111111,\"#46039f\"],[0.2222222222222222,\"#7201a8\"],[0.3333333333333333,\"#9c179e\"],[0.4444444444444444,\"#bd3786\"],[0.5555555555555556,\"#d8576b\"],[0.6666666666666666,\"#ed7953\"],[0.7777777777777778,\"#fb9f3a\"],[0.8888888888888888,\"#fdca26\"],[1.0,\"#f0f921\"]],\"type\":\"contour\"}],\"contourcarpet\":[{\"colorbar\":{\"outlinewidth\":0,\"ticks\":\"\"},\"type\":\"contourcarpet\"}],\"heatmap\":[{\"colorbar\":{\"outlinewidth\":0,\"ticks\":\"\"},\"colorscale\":[[0.0,\"#0d0887\"],[0.1111111111111111,\"#46039f\"],[0.2222222222222222,\"#7201a8\"],[0.3333333333333333,\"#9c179e\"],[0.4444444444444444,\"#bd3786\"],[0.5555555555555556,\"#d8576b\"],[0.6666666666666666,\"#ed7953\"],[0.7777777777777778,\"#fb9f3a\"],[0.8888888888888888,\"#fdca26\"],[1.0,\"#f0f921\"]],\"type\":\"heatmap\"}],\"heatmapgl\":[{\"colorbar\":{\"outlinewidth\":0,\"ticks\":\"\"},\"colorscale\":[[0.0,\"#0d0887\"],[0.1111111111111111,\"#46039f\"],[0.2222222222222222,\"#7201a8\"],[0.3333333333333333,\"#9c179e\"],[0.4444444444444444,\"#bd3786\"],[0.5555555555555556,\"#d8576b\"],[0.6666666666666666,\"#ed7953\"],[0.7777777777777778,\"#fb9f3a\"],[0.8888888888888888,\"#fdca26\"],[1.0,\"#f0f921\"]],\"type\":\"heatmapgl\"}],\"histogram\":[{\"marker\":{\"pattern\":{\"fillmode\":\"overlay\",\"size\":10,\"solidity\":0.2}},\"type\":\"histogram\"}],\"histogram2d\":[{\"colorbar\":{\"outlinewidth\":0,\"ticks\":\"\"},\"colorscale\":[[0.0,\"#0d0887\"],[0.1111111111111111,\"#46039f\"],[0.2222222222222222,\"#7201a8\"],[0.3333333333333333,\"#9c179e\"],[0.4444444444444444,\"#bd3786\"],[0.5555555555555556,\"#d8576b\"],[0.6666666666666666,\"#ed7953\"],[0.7777777777777778,\"#fb9f3a\"],[0.8888888888888888,\"#fdca26\"],[1.0,\"#f0f921\"]],\"type\":\"histogram2d\"}],\"histogram2dcontour\":[{\"colorbar\":{\"outlinewidth\":0,\"ticks\":\"\"},\"colorscale\":[[0.0,\"#0d0887\"],[0.1111111111111111,\"#46039f\"],[0.2222222222222222,\"#7201a8\"],[0.3333333333333333,\"#9c179e\"],[0.4444444444444444,\"#bd3786\"],[0.5555555555555556,\"#d8576b\"],[0.6666666666666666,\"#ed7953\"],[0.7777777777777778,\"#fb9f3a\"],[0.8888888888888888,\"#fdca26\"],[1.0,\"#f0f921\"]],\"type\":\"histogram2dcontour\"}],\"mesh3d\":[{\"colorbar\":{\"outlinewidth\":0,\"ticks\":\"\"},\"type\":\"mesh3d\"}],\"parcoords\":[{\"line\":{\"colorbar\":{\"outlinewidth\":0,\"ticks\":\"\"}},\"type\":\"parcoords\"}],\"pie\":[{\"automargin\":true,\"type\":\"pie\"}],\"scatter\":[{\"marker\":{\"colorbar\":{\"outlinewidth\":0,\"ticks\":\"\"}},\"type\":\"scatter\"}],\"scatter3d\":[{\"line\":{\"colorbar\":{\"outlinewidth\":0,\"ticks\":\"\"}},\"marker\":{\"colorbar\":{\"outlinewidth\":0,\"ticks\":\"\"}},\"type\":\"scatter3d\"}],\"scattercarpet\":[{\"marker\":{\"colorbar\":{\"outlinewidth\":0,\"ticks\":\"\"}},\"type\":\"scattercarpet\"}],\"scattergeo\":[{\"marker\":{\"colorbar\":{\"outlinewidth\":0,\"ticks\":\"\"}},\"type\":\"scattergeo\"}],\"scattergl\":[{\"marker\":{\"colorbar\":{\"outlinewidth\":0,\"ticks\":\"\"}},\"type\":\"scattergl\"}],\"scattermapbox\":[{\"marker\":{\"colorbar\":{\"outlinewidth\":0,\"ticks\":\"\"}},\"type\":\"scattermapbox\"}],\"scatterpolar\":[{\"marker\":{\"colorbar\":{\"outlinewidth\":0,\"ticks\":\"\"}},\"type\":\"scatterpolar\"}],\"scatterpolargl\":[{\"marker\":{\"colorbar\":{\"outlinewidth\":0,\"ticks\":\"\"}},\"type\":\"scatterpolargl\"}],\"scatterternary\":[{\"marker\":{\"colorbar\":{\"outlinewidth\":0,\"ticks\":\"\"}},\"type\":\"scatterternary\"}],\"surface\":[{\"colorbar\":{\"outlinewidth\":0,\"ticks\":\"\"},\"colorscale\":[[0.0,\"#0d0887\"],[0.1111111111111111,\"#46039f\"],[0.2222222222222222,\"#7201a8\"],[0.3333333333333333,\"#9c179e\"],[0.4444444444444444,\"#bd3786\"],[0.5555555555555556,\"#d8576b\"],[0.6666666666666666,\"#ed7953\"],[0.7777777777777778,\"#fb9f3a\"],[0.8888888888888888,\"#fdca26\"],[1.0,\"#f0f921\"]],\"type\":\"surface\"}],\"table\":[{\"cells\":{\"fill\":{\"color\":\"#EBF0F8\"},\"line\":{\"color\":\"white\"}},\"header\":{\"fill\":{\"color\":\"#C8D4E3\"},\"line\":{\"color\":\"white\"}},\"type\":\"table\"}]},\"layout\":{\"annotationdefaults\":{\"arrowcolor\":\"#2a3f5f\",\"arrowhead\":0,\"arrowwidth\":1},\"autotypenumbers\":\"strict\",\"coloraxis\":{\"colorbar\":{\"outlinewidth\":0,\"ticks\":\"\"}},\"colorscale\":{\"diverging\":[[0,\"#8e0152\"],[0.1,\"#c51b7d\"],[0.2,\"#de77ae\"],[0.3,\"#f1b6da\"],[0.4,\"#fde0ef\"],[0.5,\"#f7f7f7\"],[0.6,\"#e6f5d0\"],[0.7,\"#b8e186\"],[0.8,\"#7fbc41\"],[0.9,\"#4d9221\"],[1,\"#276419\"]],\"sequential\":[[0.0,\"#0d0887\"],[0.1111111111111111,\"#46039f\"],[0.2222222222222222,\"#7201a8\"],[0.3333333333333333,\"#9c179e\"],[0.4444444444444444,\"#bd3786\"],[0.5555555555555556,\"#d8576b\"],[0.6666666666666666,\"#ed7953\"],[0.7777777777777778,\"#fb9f3a\"],[0.8888888888888888,\"#fdca26\"],[1.0,\"#f0f921\"]],\"sequentialminus\":[[0.0,\"#0d0887\"],[0.1111111111111111,\"#46039f\"],[0.2222222222222222,\"#7201a8\"],[0.3333333333333333,\"#9c179e\"],[0.4444444444444444,\"#bd3786\"],[0.5555555555555556,\"#d8576b\"],[0.6666666666666666,\"#ed7953\"],[0.7777777777777778,\"#fb9f3a\"],[0.8888888888888888,\"#fdca26\"],[1.0,\"#f0f921\"]]},\"colorway\":[\"#636efa\",\"#EF553B\",\"#00cc96\",\"#ab63fa\",\"#FFA15A\",\"#19d3f3\",\"#FF6692\",\"#B6E880\",\"#FF97FF\",\"#FECB52\"],\"font\":{\"color\":\"#2a3f5f\"},\"geo\":{\"bgcolor\":\"white\",\"lakecolor\":\"white\",\"landcolor\":\"#E5ECF6\",\"showlakes\":true,\"showland\":true,\"subunitcolor\":\"white\"},\"hoverlabel\":{\"align\":\"left\"},\"hovermode\":\"closest\",\"mapbox\":{\"style\":\"light\"},\"paper_bgcolor\":\"white\",\"plot_bgcolor\":\"#E5ECF6\",\"polar\":{\"angularaxis\":{\"gridcolor\":\"white\",\"linecolor\":\"white\",\"ticks\":\"\"},\"bgcolor\":\"#E5ECF6\",\"radialaxis\":{\"gridcolor\":\"white\",\"linecolor\":\"white\",\"ticks\":\"\"}},\"scene\":{\"xaxis\":{\"backgroundcolor\":\"#E5ECF6\",\"gridcolor\":\"white\",\"gridwidth\":2,\"linecolor\":\"white\",\"showbackground\":true,\"ticks\":\"\",\"zerolinecolor\":\"white\"},\"yaxis\":{\"backgroundcolor\":\"#E5ECF6\",\"gridcolor\":\"white\",\"gridwidth\":2,\"linecolor\":\"white\",\"showbackground\":true,\"ticks\":\"\",\"zerolinecolor\":\"white\"},\"zaxis\":{\"backgroundcolor\":\"#E5ECF6\",\"gridcolor\":\"white\",\"gridwidth\":2,\"linecolor\":\"white\",\"showbackground\":true,\"ticks\":\"\",\"zerolinecolor\":\"white\"}},\"shapedefaults\":{\"line\":{\"color\":\"#2a3f5f\"}},\"ternary\":{\"aaxis\":{\"gridcolor\":\"white\",\"linecolor\":\"white\",\"ticks\":\"\"},\"baxis\":{\"gridcolor\":\"white\",\"linecolor\":\"white\",\"ticks\":\"\"},\"bgcolor\":\"#E5ECF6\",\"caxis\":{\"gridcolor\":\"white\",\"linecolor\":\"white\",\"ticks\":\"\"}},\"title\":{\"x\":0.05},\"xaxis\":{\"automargin\":true,\"gridcolor\":\"white\",\"linecolor\":\"white\",\"ticks\":\"\",\"title\":{\"standoff\":15},\"zerolinecolor\":\"white\",\"zerolinewidth\":2},\"yaxis\":{\"automargin\":true,\"gridcolor\":\"white\",\"linecolor\":\"white\",\"ticks\":\"\",\"title\":{\"standoff\":15},\"zerolinecolor\":\"white\",\"zerolinewidth\":2}}},\"xaxis\":{\"anchor\":\"y\",\"categoryarray\":[\"TORRES ESCOBAR LIZZIE CELESTE (PRESENCIAL)\",\"PAREDES PAREDES HUMBERTO (PRESENCIAL)\",\"GOICOCHEA IBARRA CORA (PRESENCIAL)\"],\"categoryorder\":\"array\",\"domain\":[0.0,1.0],\"title\":{\"text\":\"Medico\"}},\"yaxis\":{\"anchor\":\"x\",\"domain\":[0.0,1.0],\"title\":{\"text\":\"cantidad\"}}},                        {\"responsive\": true}                    ).then(function(){\n",
              "                            \n",
              "var gd = document.getElementById('11314f12-d4da-407c-9e67-32f2248f6b96');\n",
              "var x = new MutationObserver(function (mutations, observer) {{\n",
              "        var display = window.getComputedStyle(gd).display;\n",
              "        if (!display || display === 'none') {{\n",
              "            console.log([gd, 'removed!']);\n",
              "            Plotly.purge(gd);\n",
              "            observer.disconnect();\n",
              "        }}\n",
              "}});\n",
              "\n",
              "// Listen for the removal of the full notebook cells\n",
              "var notebookContainer = gd.closest('#notebook-container');\n",
              "if (notebookContainer) {{\n",
              "    x.observe(notebookContainer, {childList: true});\n",
              "}}\n",
              "\n",
              "// Listen for the clearing of the current output cell\n",
              "var outputEl = gd.closest('.output');\n",
              "if (outputEl) {{\n",
              "    x.observe(outputEl, {childList: true});\n",
              "}}\n",
              "\n",
              "                        })                };                            </script>        </div>\n",
              "</body>\n",
              "</html>"
            ]
          },
          "metadata": {}
        }
      ]
    },
    {
      "cell_type": "code",
      "source": [
        "fig = px.scatter(df,x='Edad')\n",
        "fig.show()"
      ],
      "metadata": {
        "colab": {
          "base_uri": "https://localhost:8080/",
          "height": 542
        },
        "id": "hdLRhBXAte32",
        "outputId": "e88aea6b-73f3-4fb4-a89f-a21415585520"
      },
      "execution_count": null,
      "outputs": [
        {
          "output_type": "display_data",
          "data": {
            "text/html": [
              "<html>\n",
              "<head><meta charset=\"utf-8\" /></head>\n",
              "<body>\n",
              "    <div>            <script src=\"https://cdnjs.cloudflare.com/ajax/libs/mathjax/2.7.5/MathJax.js?config=TeX-AMS-MML_SVG\"></script><script type=\"text/javascript\">if (window.MathJax) {MathJax.Hub.Config({SVG: {font: \"STIX-Web\"}});}</script>                <script type=\"text/javascript\">window.PlotlyConfig = {MathJaxConfig: 'local'};</script>\n",
              "        <script src=\"https://cdn.plot.ly/plotly-2.2.0.min.js\"></script>                <div id=\"c0c7ceea-1fa6-4d32-9502-ae96d60488c9\" class=\"plotly-graph-div\" style=\"height:525px; width:100%;\"></div>            <script type=\"text/javascript\">                                    window.PLOTLYENV=window.PLOTLYENV || {};                                    if (document.getElementById(\"c0c7ceea-1fa6-4d32-9502-ae96d60488c9\")) {                    Plotly.newPlot(                        \"c0c7ceea-1fa6-4d32-9502-ae96d60488c9\",                        [{\"hovertemplate\":\"Edad=%{x}<br>index=%{y}<extra></extra>\",\"legendgroup\":\"\",\"marker\":{\"color\":\"#636efa\",\"symbol\":\"circle\"},\"mode\":\"markers\",\"name\":\"\",\"orientation\":\"h\",\"showlegend\":false,\"type\":\"scatter\",\"x\":[46,22,41,40,44,57,64,46,37,30,28,45,34,33,53,54,28,30,19,24,26,37,40,24,33,55,33,23,54,46,31,43,35,52,35,31,68,59,40,39,26,30,42,41,46,69,56,28,55,54,43,56,26,43,41,45,34,23,48,30,39,28,38,61,46,41,37,23,39,39,39,28,47,28,39,34,40,39,29,39,60,23,37,64,59,37,33,27,39,34,30,41,39,36,33,32,50,33,18,36,25,23,61,30,49,20,46,24,50,42,28,36,22,30,52,61,21,45,29,28,42,38,46,35,18,26,60,39,42,44,23,42,29,33,35,29,33,34,24,38,26,40,27,50,23,43,45,26,27,29,30,33,31,57,45,32,37,41,46,51,25,55,20,31,57,46,29,20,24,39,51,22,29,31,39,40,28,52,28,24,35,47,56,48,24,51,30,56,52,57,35,39,57,36,39,29,36,37,38,31,41,38,28,28,30,40,23,47,26,37,45,42,41,23,50,25,33,61,54,37,29,32,25,35,26,43,35,31,29,25,32,61,41],\"xaxis\":\"x\",\"y\":[0,1,2,3,4,5,6,7,8,9,10,11,12,13,14,15,16,17,18,19,20,21,22,23,24,25,26,27,28,29,30,31,32,33,34,35,36,37,38,39,40,41,42,43,44,45,46,47,48,49,50,51,52,53,54,55,56,57,58,59,60,61,62,63,64,65,66,67,68,69,70,71,72,73,74,75,76,77,78,79,80,81,82,83,84,85,86,87,88,89,90,91,92,93,94,95,96,97,98,99,100,101,102,103,104,105,106,107,108,109,110,111,112,113,114,115,116,117,118,119,120,121,122,123,124,125,126,127,128,129,130,131,132,133,134,135,136,137,138,139,140,141,142,143,144,145,146,147,148,149,150,151,152,153,154,155,156,157,158,159,160,161,162,163,164,165,166,167,168,169,170,171,172,173,174,175,176,177,178,179,180,181,182,183,184,185,186,187,188,189,190,191,192,193,194,195,196,197,198,199,200,201,202,203,204,205,206,207,208,209,210,211,212,213,214,215,216,217,218,219,220,221,222,223,224,225,226,227,228,229,230,231,232],\"yaxis\":\"y\"}],                        {\"legend\":{\"tracegroupgap\":0},\"margin\":{\"t\":60},\"template\":{\"data\":{\"bar\":[{\"error_x\":{\"color\":\"#2a3f5f\"},\"error_y\":{\"color\":\"#2a3f5f\"},\"marker\":{\"line\":{\"color\":\"#E5ECF6\",\"width\":0.5},\"pattern\":{\"fillmode\":\"overlay\",\"size\":10,\"solidity\":0.2}},\"type\":\"bar\"}],\"barpolar\":[{\"marker\":{\"line\":{\"color\":\"#E5ECF6\",\"width\":0.5},\"pattern\":{\"fillmode\":\"overlay\",\"size\":10,\"solidity\":0.2}},\"type\":\"barpolar\"}],\"carpet\":[{\"aaxis\":{\"endlinecolor\":\"#2a3f5f\",\"gridcolor\":\"white\",\"linecolor\":\"white\",\"minorgridcolor\":\"white\",\"startlinecolor\":\"#2a3f5f\"},\"baxis\":{\"endlinecolor\":\"#2a3f5f\",\"gridcolor\":\"white\",\"linecolor\":\"white\",\"minorgridcolor\":\"white\",\"startlinecolor\":\"#2a3f5f\"},\"type\":\"carpet\"}],\"choropleth\":[{\"colorbar\":{\"outlinewidth\":0,\"ticks\":\"\"},\"type\":\"choropleth\"}],\"contour\":[{\"colorbar\":{\"outlinewidth\":0,\"ticks\":\"\"},\"colorscale\":[[0.0,\"#0d0887\"],[0.1111111111111111,\"#46039f\"],[0.2222222222222222,\"#7201a8\"],[0.3333333333333333,\"#9c179e\"],[0.4444444444444444,\"#bd3786\"],[0.5555555555555556,\"#d8576b\"],[0.6666666666666666,\"#ed7953\"],[0.7777777777777778,\"#fb9f3a\"],[0.8888888888888888,\"#fdca26\"],[1.0,\"#f0f921\"]],\"type\":\"contour\"}],\"contourcarpet\":[{\"colorbar\":{\"outlinewidth\":0,\"ticks\":\"\"},\"type\":\"contourcarpet\"}],\"heatmap\":[{\"colorbar\":{\"outlinewidth\":0,\"ticks\":\"\"},\"colorscale\":[[0.0,\"#0d0887\"],[0.1111111111111111,\"#46039f\"],[0.2222222222222222,\"#7201a8\"],[0.3333333333333333,\"#9c179e\"],[0.4444444444444444,\"#bd3786\"],[0.5555555555555556,\"#d8576b\"],[0.6666666666666666,\"#ed7953\"],[0.7777777777777778,\"#fb9f3a\"],[0.8888888888888888,\"#fdca26\"],[1.0,\"#f0f921\"]],\"type\":\"heatmap\"}],\"heatmapgl\":[{\"colorbar\":{\"outlinewidth\":0,\"ticks\":\"\"},\"colorscale\":[[0.0,\"#0d0887\"],[0.1111111111111111,\"#46039f\"],[0.2222222222222222,\"#7201a8\"],[0.3333333333333333,\"#9c179e\"],[0.4444444444444444,\"#bd3786\"],[0.5555555555555556,\"#d8576b\"],[0.6666666666666666,\"#ed7953\"],[0.7777777777777778,\"#fb9f3a\"],[0.8888888888888888,\"#fdca26\"],[1.0,\"#f0f921\"]],\"type\":\"heatmapgl\"}],\"histogram\":[{\"marker\":{\"pattern\":{\"fillmode\":\"overlay\",\"size\":10,\"solidity\":0.2}},\"type\":\"histogram\"}],\"histogram2d\":[{\"colorbar\":{\"outlinewidth\":0,\"ticks\":\"\"},\"colorscale\":[[0.0,\"#0d0887\"],[0.1111111111111111,\"#46039f\"],[0.2222222222222222,\"#7201a8\"],[0.3333333333333333,\"#9c179e\"],[0.4444444444444444,\"#bd3786\"],[0.5555555555555556,\"#d8576b\"],[0.6666666666666666,\"#ed7953\"],[0.7777777777777778,\"#fb9f3a\"],[0.8888888888888888,\"#fdca26\"],[1.0,\"#f0f921\"]],\"type\":\"histogram2d\"}],\"histogram2dcontour\":[{\"colorbar\":{\"outlinewidth\":0,\"ticks\":\"\"},\"colorscale\":[[0.0,\"#0d0887\"],[0.1111111111111111,\"#46039f\"],[0.2222222222222222,\"#7201a8\"],[0.3333333333333333,\"#9c179e\"],[0.4444444444444444,\"#bd3786\"],[0.5555555555555556,\"#d8576b\"],[0.6666666666666666,\"#ed7953\"],[0.7777777777777778,\"#fb9f3a\"],[0.8888888888888888,\"#fdca26\"],[1.0,\"#f0f921\"]],\"type\":\"histogram2dcontour\"}],\"mesh3d\":[{\"colorbar\":{\"outlinewidth\":0,\"ticks\":\"\"},\"type\":\"mesh3d\"}],\"parcoords\":[{\"line\":{\"colorbar\":{\"outlinewidth\":0,\"ticks\":\"\"}},\"type\":\"parcoords\"}],\"pie\":[{\"automargin\":true,\"type\":\"pie\"}],\"scatter\":[{\"marker\":{\"colorbar\":{\"outlinewidth\":0,\"ticks\":\"\"}},\"type\":\"scatter\"}],\"scatter3d\":[{\"line\":{\"colorbar\":{\"outlinewidth\":0,\"ticks\":\"\"}},\"marker\":{\"colorbar\":{\"outlinewidth\":0,\"ticks\":\"\"}},\"type\":\"scatter3d\"}],\"scattercarpet\":[{\"marker\":{\"colorbar\":{\"outlinewidth\":0,\"ticks\":\"\"}},\"type\":\"scattercarpet\"}],\"scattergeo\":[{\"marker\":{\"colorbar\":{\"outlinewidth\":0,\"ticks\":\"\"}},\"type\":\"scattergeo\"}],\"scattergl\":[{\"marker\":{\"colorbar\":{\"outlinewidth\":0,\"ticks\":\"\"}},\"type\":\"scattergl\"}],\"scattermapbox\":[{\"marker\":{\"colorbar\":{\"outlinewidth\":0,\"ticks\":\"\"}},\"type\":\"scattermapbox\"}],\"scatterpolar\":[{\"marker\":{\"colorbar\":{\"outlinewidth\":0,\"ticks\":\"\"}},\"type\":\"scatterpolar\"}],\"scatterpolargl\":[{\"marker\":{\"colorbar\":{\"outlinewidth\":0,\"ticks\":\"\"}},\"type\":\"scatterpolargl\"}],\"scatterternary\":[{\"marker\":{\"colorbar\":{\"outlinewidth\":0,\"ticks\":\"\"}},\"type\":\"scatterternary\"}],\"surface\":[{\"colorbar\":{\"outlinewidth\":0,\"ticks\":\"\"},\"colorscale\":[[0.0,\"#0d0887\"],[0.1111111111111111,\"#46039f\"],[0.2222222222222222,\"#7201a8\"],[0.3333333333333333,\"#9c179e\"],[0.4444444444444444,\"#bd3786\"],[0.5555555555555556,\"#d8576b\"],[0.6666666666666666,\"#ed7953\"],[0.7777777777777778,\"#fb9f3a\"],[0.8888888888888888,\"#fdca26\"],[1.0,\"#f0f921\"]],\"type\":\"surface\"}],\"table\":[{\"cells\":{\"fill\":{\"color\":\"#EBF0F8\"},\"line\":{\"color\":\"white\"}},\"header\":{\"fill\":{\"color\":\"#C8D4E3\"},\"line\":{\"color\":\"white\"}},\"type\":\"table\"}]},\"layout\":{\"annotationdefaults\":{\"arrowcolor\":\"#2a3f5f\",\"arrowhead\":0,\"arrowwidth\":1},\"autotypenumbers\":\"strict\",\"coloraxis\":{\"colorbar\":{\"outlinewidth\":0,\"ticks\":\"\"}},\"colorscale\":{\"diverging\":[[0,\"#8e0152\"],[0.1,\"#c51b7d\"],[0.2,\"#de77ae\"],[0.3,\"#f1b6da\"],[0.4,\"#fde0ef\"],[0.5,\"#f7f7f7\"],[0.6,\"#e6f5d0\"],[0.7,\"#b8e186\"],[0.8,\"#7fbc41\"],[0.9,\"#4d9221\"],[1,\"#276419\"]],\"sequential\":[[0.0,\"#0d0887\"],[0.1111111111111111,\"#46039f\"],[0.2222222222222222,\"#7201a8\"],[0.3333333333333333,\"#9c179e\"],[0.4444444444444444,\"#bd3786\"],[0.5555555555555556,\"#d8576b\"],[0.6666666666666666,\"#ed7953\"],[0.7777777777777778,\"#fb9f3a\"],[0.8888888888888888,\"#fdca26\"],[1.0,\"#f0f921\"]],\"sequentialminus\":[[0.0,\"#0d0887\"],[0.1111111111111111,\"#46039f\"],[0.2222222222222222,\"#7201a8\"],[0.3333333333333333,\"#9c179e\"],[0.4444444444444444,\"#bd3786\"],[0.5555555555555556,\"#d8576b\"],[0.6666666666666666,\"#ed7953\"],[0.7777777777777778,\"#fb9f3a\"],[0.8888888888888888,\"#fdca26\"],[1.0,\"#f0f921\"]]},\"colorway\":[\"#636efa\",\"#EF553B\",\"#00cc96\",\"#ab63fa\",\"#FFA15A\",\"#19d3f3\",\"#FF6692\",\"#B6E880\",\"#FF97FF\",\"#FECB52\"],\"font\":{\"color\":\"#2a3f5f\"},\"geo\":{\"bgcolor\":\"white\",\"lakecolor\":\"white\",\"landcolor\":\"#E5ECF6\",\"showlakes\":true,\"showland\":true,\"subunitcolor\":\"white\"},\"hoverlabel\":{\"align\":\"left\"},\"hovermode\":\"closest\",\"mapbox\":{\"style\":\"light\"},\"paper_bgcolor\":\"white\",\"plot_bgcolor\":\"#E5ECF6\",\"polar\":{\"angularaxis\":{\"gridcolor\":\"white\",\"linecolor\":\"white\",\"ticks\":\"\"},\"bgcolor\":\"#E5ECF6\",\"radialaxis\":{\"gridcolor\":\"white\",\"linecolor\":\"white\",\"ticks\":\"\"}},\"scene\":{\"xaxis\":{\"backgroundcolor\":\"#E5ECF6\",\"gridcolor\":\"white\",\"gridwidth\":2,\"linecolor\":\"white\",\"showbackground\":true,\"ticks\":\"\",\"zerolinecolor\":\"white\"},\"yaxis\":{\"backgroundcolor\":\"#E5ECF6\",\"gridcolor\":\"white\",\"gridwidth\":2,\"linecolor\":\"white\",\"showbackground\":true,\"ticks\":\"\",\"zerolinecolor\":\"white\"},\"zaxis\":{\"backgroundcolor\":\"#E5ECF6\",\"gridcolor\":\"white\",\"gridwidth\":2,\"linecolor\":\"white\",\"showbackground\":true,\"ticks\":\"\",\"zerolinecolor\":\"white\"}},\"shapedefaults\":{\"line\":{\"color\":\"#2a3f5f\"}},\"ternary\":{\"aaxis\":{\"gridcolor\":\"white\",\"linecolor\":\"white\",\"ticks\":\"\"},\"baxis\":{\"gridcolor\":\"white\",\"linecolor\":\"white\",\"ticks\":\"\"},\"bgcolor\":\"#E5ECF6\",\"caxis\":{\"gridcolor\":\"white\",\"linecolor\":\"white\",\"ticks\":\"\"}},\"title\":{\"x\":0.05},\"xaxis\":{\"automargin\":true,\"gridcolor\":\"white\",\"linecolor\":\"white\",\"ticks\":\"\",\"title\":{\"standoff\":15},\"zerolinecolor\":\"white\",\"zerolinewidth\":2},\"yaxis\":{\"automargin\":true,\"gridcolor\":\"white\",\"linecolor\":\"white\",\"ticks\":\"\",\"title\":{\"standoff\":15},\"zerolinecolor\":\"white\",\"zerolinewidth\":2}}},\"xaxis\":{\"anchor\":\"y\",\"domain\":[0.0,1.0],\"title\":{\"text\":\"Edad\"}},\"yaxis\":{\"anchor\":\"x\",\"domain\":[0.0,1.0],\"title\":{\"text\":\"index\"}}},                        {\"responsive\": true}                    ).then(function(){\n",
              "                            \n",
              "var gd = document.getElementById('c0c7ceea-1fa6-4d32-9502-ae96d60488c9');\n",
              "var x = new MutationObserver(function (mutations, observer) {{\n",
              "        var display = window.getComputedStyle(gd).display;\n",
              "        if (!display || display === 'none') {{\n",
              "            console.log([gd, 'removed!']);\n",
              "            Plotly.purge(gd);\n",
              "            observer.disconnect();\n",
              "        }}\n",
              "}});\n",
              "\n",
              "// Listen for the removal of the full notebook cells\n",
              "var notebookContainer = gd.closest('#notebook-container');\n",
              "if (notebookContainer) {{\n",
              "    x.observe(notebookContainer, {childList: true});\n",
              "}}\n",
              "\n",
              "// Listen for the clearing of the current output cell\n",
              "var outputEl = gd.closest('.output');\n",
              "if (outputEl) {{\n",
              "    x.observe(outputEl, {childList: true});\n",
              "}}\n",
              "\n",
              "                        })                };                            </script>        </div>\n",
              "</body>\n",
              "</html>"
            ]
          },
          "metadata": {}
        }
      ]
    },
    {
      "cell_type": "code",
      "source": [
        "fig = px.histogram(df, x=\"Edad\",title=\"Edad de pacientes\")\n",
        "fig.show()"
      ],
      "metadata": {
        "colab": {
          "base_uri": "https://localhost:8080/",
          "height": 542
        },
        "id": "GWOIJ_1EvPaf",
        "outputId": "42da623e-a28f-416c-927b-cdc55d6b331a"
      },
      "execution_count": null,
      "outputs": [
        {
          "output_type": "display_data",
          "data": {
            "text/html": [
              "<html>\n",
              "<head><meta charset=\"utf-8\" /></head>\n",
              "<body>\n",
              "    <div>            <script src=\"https://cdnjs.cloudflare.com/ajax/libs/mathjax/2.7.5/MathJax.js?config=TeX-AMS-MML_SVG\"></script><script type=\"text/javascript\">if (window.MathJax) {MathJax.Hub.Config({SVG: {font: \"STIX-Web\"}});}</script>                <script type=\"text/javascript\">window.PlotlyConfig = {MathJaxConfig: 'local'};</script>\n",
              "        <script src=\"https://cdn.plot.ly/plotly-2.2.0.min.js\"></script>                <div id=\"6e35f981-38d7-48d1-9008-698035973b08\" class=\"plotly-graph-div\" style=\"height:525px; width:100%;\"></div>            <script type=\"text/javascript\">                                    window.PLOTLYENV=window.PLOTLYENV || {};                                    if (document.getElementById(\"6e35f981-38d7-48d1-9008-698035973b08\")) {                    Plotly.newPlot(                        \"6e35f981-38d7-48d1-9008-698035973b08\",                        [{\"alignmentgroup\":\"True\",\"bingroup\":\"x\",\"hovertemplate\":\"Edad=%{x}<br>count=%{y}<extra></extra>\",\"legendgroup\":\"\",\"marker\":{\"color\":\"#636efa\",\"pattern\":{\"shape\":\"\"}},\"name\":\"\",\"offsetgroup\":\"\",\"orientation\":\"v\",\"showlegend\":false,\"type\":\"histogram\",\"x\":[46,22,41,40,44,57,64,46,37,30,28,45,34,33,53,54,28,30,19,24,26,37,40,24,33,55,33,23,54,46,31,43,35,52,35,31,68,59,40,39,26,30,42,41,46,69,56,28,55,54,43,56,26,43,41,45,34,23,48,30,39,28,38,61,46,41,37,23,39,39,39,28,47,28,39,34,40,39,29,39,60,23,37,64,59,37,33,27,39,34,30,41,39,36,33,32,50,33,18,36,25,23,61,30,49,20,46,24,50,42,28,36,22,30,52,61,21,45,29,28,42,38,46,35,18,26,60,39,42,44,23,42,29,33,35,29,33,34,24,38,26,40,27,50,23,43,45,26,27,29,30,33,31,57,45,32,37,41,46,51,25,55,20,31,57,46,29,20,24,39,51,22,29,31,39,40,28,52,28,24,35,47,56,48,24,51,30,56,52,57,35,39,57,36,39,29,36,37,38,31,41,38,28,28,30,40,23,47,26,37,45,42,41,23,50,25,33,61,54,37,29,32,25,35,26,43,35,31,29,25,32,61,41],\"xaxis\":\"x\",\"yaxis\":\"y\"}],                        {\"barmode\":\"relative\",\"legend\":{\"tracegroupgap\":0},\"template\":{\"data\":{\"bar\":[{\"error_x\":{\"color\":\"#2a3f5f\"},\"error_y\":{\"color\":\"#2a3f5f\"},\"marker\":{\"line\":{\"color\":\"#E5ECF6\",\"width\":0.5},\"pattern\":{\"fillmode\":\"overlay\",\"size\":10,\"solidity\":0.2}},\"type\":\"bar\"}],\"barpolar\":[{\"marker\":{\"line\":{\"color\":\"#E5ECF6\",\"width\":0.5},\"pattern\":{\"fillmode\":\"overlay\",\"size\":10,\"solidity\":0.2}},\"type\":\"barpolar\"}],\"carpet\":[{\"aaxis\":{\"endlinecolor\":\"#2a3f5f\",\"gridcolor\":\"white\",\"linecolor\":\"white\",\"minorgridcolor\":\"white\",\"startlinecolor\":\"#2a3f5f\"},\"baxis\":{\"endlinecolor\":\"#2a3f5f\",\"gridcolor\":\"white\",\"linecolor\":\"white\",\"minorgridcolor\":\"white\",\"startlinecolor\":\"#2a3f5f\"},\"type\":\"carpet\"}],\"choropleth\":[{\"colorbar\":{\"outlinewidth\":0,\"ticks\":\"\"},\"type\":\"choropleth\"}],\"contour\":[{\"colorbar\":{\"outlinewidth\":0,\"ticks\":\"\"},\"colorscale\":[[0.0,\"#0d0887\"],[0.1111111111111111,\"#46039f\"],[0.2222222222222222,\"#7201a8\"],[0.3333333333333333,\"#9c179e\"],[0.4444444444444444,\"#bd3786\"],[0.5555555555555556,\"#d8576b\"],[0.6666666666666666,\"#ed7953\"],[0.7777777777777778,\"#fb9f3a\"],[0.8888888888888888,\"#fdca26\"],[1.0,\"#f0f921\"]],\"type\":\"contour\"}],\"contourcarpet\":[{\"colorbar\":{\"outlinewidth\":0,\"ticks\":\"\"},\"type\":\"contourcarpet\"}],\"heatmap\":[{\"colorbar\":{\"outlinewidth\":0,\"ticks\":\"\"},\"colorscale\":[[0.0,\"#0d0887\"],[0.1111111111111111,\"#46039f\"],[0.2222222222222222,\"#7201a8\"],[0.3333333333333333,\"#9c179e\"],[0.4444444444444444,\"#bd3786\"],[0.5555555555555556,\"#d8576b\"],[0.6666666666666666,\"#ed7953\"],[0.7777777777777778,\"#fb9f3a\"],[0.8888888888888888,\"#fdca26\"],[1.0,\"#f0f921\"]],\"type\":\"heatmap\"}],\"heatmapgl\":[{\"colorbar\":{\"outlinewidth\":0,\"ticks\":\"\"},\"colorscale\":[[0.0,\"#0d0887\"],[0.1111111111111111,\"#46039f\"],[0.2222222222222222,\"#7201a8\"],[0.3333333333333333,\"#9c179e\"],[0.4444444444444444,\"#bd3786\"],[0.5555555555555556,\"#d8576b\"],[0.6666666666666666,\"#ed7953\"],[0.7777777777777778,\"#fb9f3a\"],[0.8888888888888888,\"#fdca26\"],[1.0,\"#f0f921\"]],\"type\":\"heatmapgl\"}],\"histogram\":[{\"marker\":{\"pattern\":{\"fillmode\":\"overlay\",\"size\":10,\"solidity\":0.2}},\"type\":\"histogram\"}],\"histogram2d\":[{\"colorbar\":{\"outlinewidth\":0,\"ticks\":\"\"},\"colorscale\":[[0.0,\"#0d0887\"],[0.1111111111111111,\"#46039f\"],[0.2222222222222222,\"#7201a8\"],[0.3333333333333333,\"#9c179e\"],[0.4444444444444444,\"#bd3786\"],[0.5555555555555556,\"#d8576b\"],[0.6666666666666666,\"#ed7953\"],[0.7777777777777778,\"#fb9f3a\"],[0.8888888888888888,\"#fdca26\"],[1.0,\"#f0f921\"]],\"type\":\"histogram2d\"}],\"histogram2dcontour\":[{\"colorbar\":{\"outlinewidth\":0,\"ticks\":\"\"},\"colorscale\":[[0.0,\"#0d0887\"],[0.1111111111111111,\"#46039f\"],[0.2222222222222222,\"#7201a8\"],[0.3333333333333333,\"#9c179e\"],[0.4444444444444444,\"#bd3786\"],[0.5555555555555556,\"#d8576b\"],[0.6666666666666666,\"#ed7953\"],[0.7777777777777778,\"#fb9f3a\"],[0.8888888888888888,\"#fdca26\"],[1.0,\"#f0f921\"]],\"type\":\"histogram2dcontour\"}],\"mesh3d\":[{\"colorbar\":{\"outlinewidth\":0,\"ticks\":\"\"},\"type\":\"mesh3d\"}],\"parcoords\":[{\"line\":{\"colorbar\":{\"outlinewidth\":0,\"ticks\":\"\"}},\"type\":\"parcoords\"}],\"pie\":[{\"automargin\":true,\"type\":\"pie\"}],\"scatter\":[{\"marker\":{\"colorbar\":{\"outlinewidth\":0,\"ticks\":\"\"}},\"type\":\"scatter\"}],\"scatter3d\":[{\"line\":{\"colorbar\":{\"outlinewidth\":0,\"ticks\":\"\"}},\"marker\":{\"colorbar\":{\"outlinewidth\":0,\"ticks\":\"\"}},\"type\":\"scatter3d\"}],\"scattercarpet\":[{\"marker\":{\"colorbar\":{\"outlinewidth\":0,\"ticks\":\"\"}},\"type\":\"scattercarpet\"}],\"scattergeo\":[{\"marker\":{\"colorbar\":{\"outlinewidth\":0,\"ticks\":\"\"}},\"type\":\"scattergeo\"}],\"scattergl\":[{\"marker\":{\"colorbar\":{\"outlinewidth\":0,\"ticks\":\"\"}},\"type\":\"scattergl\"}],\"scattermapbox\":[{\"marker\":{\"colorbar\":{\"outlinewidth\":0,\"ticks\":\"\"}},\"type\":\"scattermapbox\"}],\"scatterpolar\":[{\"marker\":{\"colorbar\":{\"outlinewidth\":0,\"ticks\":\"\"}},\"type\":\"scatterpolar\"}],\"scatterpolargl\":[{\"marker\":{\"colorbar\":{\"outlinewidth\":0,\"ticks\":\"\"}},\"type\":\"scatterpolargl\"}],\"scatterternary\":[{\"marker\":{\"colorbar\":{\"outlinewidth\":0,\"ticks\":\"\"}},\"type\":\"scatterternary\"}],\"surface\":[{\"colorbar\":{\"outlinewidth\":0,\"ticks\":\"\"},\"colorscale\":[[0.0,\"#0d0887\"],[0.1111111111111111,\"#46039f\"],[0.2222222222222222,\"#7201a8\"],[0.3333333333333333,\"#9c179e\"],[0.4444444444444444,\"#bd3786\"],[0.5555555555555556,\"#d8576b\"],[0.6666666666666666,\"#ed7953\"],[0.7777777777777778,\"#fb9f3a\"],[0.8888888888888888,\"#fdca26\"],[1.0,\"#f0f921\"]],\"type\":\"surface\"}],\"table\":[{\"cells\":{\"fill\":{\"color\":\"#EBF0F8\"},\"line\":{\"color\":\"white\"}},\"header\":{\"fill\":{\"color\":\"#C8D4E3\"},\"line\":{\"color\":\"white\"}},\"type\":\"table\"}]},\"layout\":{\"annotationdefaults\":{\"arrowcolor\":\"#2a3f5f\",\"arrowhead\":0,\"arrowwidth\":1},\"autotypenumbers\":\"strict\",\"coloraxis\":{\"colorbar\":{\"outlinewidth\":0,\"ticks\":\"\"}},\"colorscale\":{\"diverging\":[[0,\"#8e0152\"],[0.1,\"#c51b7d\"],[0.2,\"#de77ae\"],[0.3,\"#f1b6da\"],[0.4,\"#fde0ef\"],[0.5,\"#f7f7f7\"],[0.6,\"#e6f5d0\"],[0.7,\"#b8e186\"],[0.8,\"#7fbc41\"],[0.9,\"#4d9221\"],[1,\"#276419\"]],\"sequential\":[[0.0,\"#0d0887\"],[0.1111111111111111,\"#46039f\"],[0.2222222222222222,\"#7201a8\"],[0.3333333333333333,\"#9c179e\"],[0.4444444444444444,\"#bd3786\"],[0.5555555555555556,\"#d8576b\"],[0.6666666666666666,\"#ed7953\"],[0.7777777777777778,\"#fb9f3a\"],[0.8888888888888888,\"#fdca26\"],[1.0,\"#f0f921\"]],\"sequentialminus\":[[0.0,\"#0d0887\"],[0.1111111111111111,\"#46039f\"],[0.2222222222222222,\"#7201a8\"],[0.3333333333333333,\"#9c179e\"],[0.4444444444444444,\"#bd3786\"],[0.5555555555555556,\"#d8576b\"],[0.6666666666666666,\"#ed7953\"],[0.7777777777777778,\"#fb9f3a\"],[0.8888888888888888,\"#fdca26\"],[1.0,\"#f0f921\"]]},\"colorway\":[\"#636efa\",\"#EF553B\",\"#00cc96\",\"#ab63fa\",\"#FFA15A\",\"#19d3f3\",\"#FF6692\",\"#B6E880\",\"#FF97FF\",\"#FECB52\"],\"font\":{\"color\":\"#2a3f5f\"},\"geo\":{\"bgcolor\":\"white\",\"lakecolor\":\"white\",\"landcolor\":\"#E5ECF6\",\"showlakes\":true,\"showland\":true,\"subunitcolor\":\"white\"},\"hoverlabel\":{\"align\":\"left\"},\"hovermode\":\"closest\",\"mapbox\":{\"style\":\"light\"},\"paper_bgcolor\":\"white\",\"plot_bgcolor\":\"#E5ECF6\",\"polar\":{\"angularaxis\":{\"gridcolor\":\"white\",\"linecolor\":\"white\",\"ticks\":\"\"},\"bgcolor\":\"#E5ECF6\",\"radialaxis\":{\"gridcolor\":\"white\",\"linecolor\":\"white\",\"ticks\":\"\"}},\"scene\":{\"xaxis\":{\"backgroundcolor\":\"#E5ECF6\",\"gridcolor\":\"white\",\"gridwidth\":2,\"linecolor\":\"white\",\"showbackground\":true,\"ticks\":\"\",\"zerolinecolor\":\"white\"},\"yaxis\":{\"backgroundcolor\":\"#E5ECF6\",\"gridcolor\":\"white\",\"gridwidth\":2,\"linecolor\":\"white\",\"showbackground\":true,\"ticks\":\"\",\"zerolinecolor\":\"white\"},\"zaxis\":{\"backgroundcolor\":\"#E5ECF6\",\"gridcolor\":\"white\",\"gridwidth\":2,\"linecolor\":\"white\",\"showbackground\":true,\"ticks\":\"\",\"zerolinecolor\":\"white\"}},\"shapedefaults\":{\"line\":{\"color\":\"#2a3f5f\"}},\"ternary\":{\"aaxis\":{\"gridcolor\":\"white\",\"linecolor\":\"white\",\"ticks\":\"\"},\"baxis\":{\"gridcolor\":\"white\",\"linecolor\":\"white\",\"ticks\":\"\"},\"bgcolor\":\"#E5ECF6\",\"caxis\":{\"gridcolor\":\"white\",\"linecolor\":\"white\",\"ticks\":\"\"}},\"title\":{\"x\":0.05},\"xaxis\":{\"automargin\":true,\"gridcolor\":\"white\",\"linecolor\":\"white\",\"ticks\":\"\",\"title\":{\"standoff\":15},\"zerolinecolor\":\"white\",\"zerolinewidth\":2},\"yaxis\":{\"automargin\":true,\"gridcolor\":\"white\",\"linecolor\":\"white\",\"ticks\":\"\",\"title\":{\"standoff\":15},\"zerolinecolor\":\"white\",\"zerolinewidth\":2}}},\"title\":{\"text\":\"Edad de pacientes\"},\"xaxis\":{\"anchor\":\"y\",\"domain\":[0.0,1.0],\"title\":{\"text\":\"Edad\"}},\"yaxis\":{\"anchor\":\"x\",\"domain\":[0.0,1.0],\"title\":{\"text\":\"count\"}}},                        {\"responsive\": true}                    ).then(function(){\n",
              "                            \n",
              "var gd = document.getElementById('6e35f981-38d7-48d1-9008-698035973b08');\n",
              "var x = new MutationObserver(function (mutations, observer) {{\n",
              "        var display = window.getComputedStyle(gd).display;\n",
              "        if (!display || display === 'none') {{\n",
              "            console.log([gd, 'removed!']);\n",
              "            Plotly.purge(gd);\n",
              "            observer.disconnect();\n",
              "        }}\n",
              "}});\n",
              "\n",
              "// Listen for the removal of the full notebook cells\n",
              "var notebookContainer = gd.closest('#notebook-container');\n",
              "if (notebookContainer) {{\n",
              "    x.observe(notebookContainer, {childList: true});\n",
              "}}\n",
              "\n",
              "// Listen for the clearing of the current output cell\n",
              "var outputEl = gd.closest('.output');\n",
              "if (outputEl) {{\n",
              "    x.observe(outputEl, {childList: true});\n",
              "}}\n",
              "\n",
              "                        })                };                            </script>        </div>\n",
              "</body>\n",
              "</html>"
            ]
          },
          "metadata": {}
        }
      ]
    },
    {
      "cell_type": "code",
      "source": [
        ""
      ],
      "metadata": {
        "id": "t3ixHob5xJ8q"
      },
      "execution_count": null,
      "outputs": []
    }
  ]
}