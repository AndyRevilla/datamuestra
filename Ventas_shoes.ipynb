{
  "nbformat": 4,
  "nbformat_minor": 0,
  "metadata": {
    "colab": {
      "name": "Ventas-shoes.ipynb",
      "provenance": [],
      "authorship_tag": "ABX9TyPL/AqFRGJIfiq4XdH4X36Q",
      "include_colab_link": true
    },
    "kernelspec": {
      "name": "python3",
      "display_name": "Python 3"
    },
    "language_info": {
      "name": "python"
    }
  },
  "cells": [
    {
      "cell_type": "markdown",
      "metadata": {
        "id": "view-in-github",
        "colab_type": "text"
      },
      "source": [
        "<a href=\"https://colab.research.google.com/github/AndyRevilla/datamuestra/blob/main/Ventas_shoes.ipynb\" target=\"_parent\"><img src=\"https://colab.research.google.com/assets/colab-badge.svg\" alt=\"Open In Colab\"/></a>"
      ]
    },
    {
      "cell_type": "code",
      "execution_count": null,
      "metadata": {
        "id": "76a4Y54d9vM-"
      },
      "outputs": [],
      "source": [
        "import math\n",
        "import pandas as pd\n",
        "import seaborn as sns\n",
        "import matplotlib.pyplot as plt"
      ]
    },
    {
      "cell_type": "code",
      "source": [
        "from google.colab import drive\n",
        "drive.mount(\"/content/drive\")"
      ],
      "metadata": {
        "colab": {
          "base_uri": "https://localhost:8080/"
        },
        "id": "yM9UltI4-I23",
        "outputId": "291d1cfb-fab3-418e-b85e-20803ae24822"
      },
      "execution_count": null,
      "outputs": [
        {
          "output_type": "stream",
          "name": "stdout",
          "text": [
            "Mounted at /content/drive\n"
          ]
        }
      ]
    },
    {
      "cell_type": "code",
      "source": [
        "df = pd.read_csv(\"/content/drive/MyDrive/shoes.csv\")\n",
        "df"
      ],
      "metadata": {
        "colab": {
          "base_uri": "https://localhost:8080/",
          "height": 424
        },
        "id": "O_MZPli3-CAg",
        "outputId": "31f01b89-1739-46af-a4d0-216431b74ca7"
      },
      "execution_count": null,
      "outputs": [
        {
          "output_type": "execute_result",
          "data": {
            "text/plain": [
              "       InvoiceNo        Date         Country  ProductID  Shop  Gender  \\\n",
              "0          52389    1/1/2014  United Kingdom       2152   UK2    Male   \n",
              "1          52390    1/1/2014   United States       2230  US15    Male   \n",
              "2          52391    1/1/2014          Canada       2160  CAN7    Male   \n",
              "3          52392    1/1/2014   United States       2234   US6  Female   \n",
              "4          52393    1/1/2014  United Kingdom       2222   UK4  Female   \n",
              "...          ...         ...             ...        ...   ...     ...   \n",
              "14962      65773  12/31/2016  United Kingdom       2154   UK2    Male   \n",
              "14963      65774  12/31/2016   United States       2181  US12  Female   \n",
              "14964      65775  12/31/2016          Canada       2203  CAN6    Male   \n",
              "14965      65776  12/31/2016         Germany       2231  GER1  Female   \n",
              "14966      65777  12/31/2016         Germany       2156  GER1  Female   \n",
              "\n",
              "       Size (US) Size (Europe)  Size (UK)  UnitPrice Discount  SalePrice  \n",
              "0           11.0            44       10.5   $159.00        0%   $159.00   \n",
              "1           11.5         44-45       11.0   $199.00       20%   $159.20   \n",
              "2            9.5         42-43        9.0   $149.00       20%   $119.20   \n",
              "3            9.5            40        7.5   $159.00        0%   $159.00   \n",
              "4            9.0         39-40        7.0   $159.00        0%   $159.00   \n",
              "...          ...           ...        ...        ...      ...        ...  \n",
              "14962        9.5         42-43        9.0   $139.00        0%   $139.00   \n",
              "14963       12.0         42-43       10.0   $149.00        0%   $149.00   \n",
              "14964       10.5         43-44       10.0   $179.00       30%   $125.30   \n",
              "14965        9.5            40        7.5   $199.00        0%   $199.00   \n",
              "14966        6.5            37        4.5   $139.00       10%   $125.10   \n",
              "\n",
              "[14967 rows x 12 columns]"
            ],
            "text/html": [
              "\n",
              "  <div id=\"df-f16f2725-c838-41d6-9970-609151797633\">\n",
              "    <div class=\"colab-df-container\">\n",
              "      <div>\n",
              "<style scoped>\n",
              "    .dataframe tbody tr th:only-of-type {\n",
              "        vertical-align: middle;\n",
              "    }\n",
              "\n",
              "    .dataframe tbody tr th {\n",
              "        vertical-align: top;\n",
              "    }\n",
              "\n",
              "    .dataframe thead th {\n",
              "        text-align: right;\n",
              "    }\n",
              "</style>\n",
              "<table border=\"1\" class=\"dataframe\">\n",
              "  <thead>\n",
              "    <tr style=\"text-align: right;\">\n",
              "      <th></th>\n",
              "      <th>InvoiceNo</th>\n",
              "      <th>Date</th>\n",
              "      <th>Country</th>\n",
              "      <th>ProductID</th>\n",
              "      <th>Shop</th>\n",
              "      <th>Gender</th>\n",
              "      <th>Size (US)</th>\n",
              "      <th>Size (Europe)</th>\n",
              "      <th>Size (UK)</th>\n",
              "      <th>UnitPrice</th>\n",
              "      <th>Discount</th>\n",
              "      <th>SalePrice</th>\n",
              "    </tr>\n",
              "  </thead>\n",
              "  <tbody>\n",
              "    <tr>\n",
              "      <th>0</th>\n",
              "      <td>52389</td>\n",
              "      <td>1/1/2014</td>\n",
              "      <td>United Kingdom</td>\n",
              "      <td>2152</td>\n",
              "      <td>UK2</td>\n",
              "      <td>Male</td>\n",
              "      <td>11.0</td>\n",
              "      <td>44</td>\n",
              "      <td>10.5</td>\n",
              "      <td>$159.00</td>\n",
              "      <td>0%</td>\n",
              "      <td>$159.00</td>\n",
              "    </tr>\n",
              "    <tr>\n",
              "      <th>1</th>\n",
              "      <td>52390</td>\n",
              "      <td>1/1/2014</td>\n",
              "      <td>United States</td>\n",
              "      <td>2230</td>\n",
              "      <td>US15</td>\n",
              "      <td>Male</td>\n",
              "      <td>11.5</td>\n",
              "      <td>44-45</td>\n",
              "      <td>11.0</td>\n",
              "      <td>$199.00</td>\n",
              "      <td>20%</td>\n",
              "      <td>$159.20</td>\n",
              "    </tr>\n",
              "    <tr>\n",
              "      <th>2</th>\n",
              "      <td>52391</td>\n",
              "      <td>1/1/2014</td>\n",
              "      <td>Canada</td>\n",
              "      <td>2160</td>\n",
              "      <td>CAN7</td>\n",
              "      <td>Male</td>\n",
              "      <td>9.5</td>\n",
              "      <td>42-43</td>\n",
              "      <td>9.0</td>\n",
              "      <td>$149.00</td>\n",
              "      <td>20%</td>\n",
              "      <td>$119.20</td>\n",
              "    </tr>\n",
              "    <tr>\n",
              "      <th>3</th>\n",
              "      <td>52392</td>\n",
              "      <td>1/1/2014</td>\n",
              "      <td>United States</td>\n",
              "      <td>2234</td>\n",
              "      <td>US6</td>\n",
              "      <td>Female</td>\n",
              "      <td>9.5</td>\n",
              "      <td>40</td>\n",
              "      <td>7.5</td>\n",
              "      <td>$159.00</td>\n",
              "      <td>0%</td>\n",
              "      <td>$159.00</td>\n",
              "    </tr>\n",
              "    <tr>\n",
              "      <th>4</th>\n",
              "      <td>52393</td>\n",
              "      <td>1/1/2014</td>\n",
              "      <td>United Kingdom</td>\n",
              "      <td>2222</td>\n",
              "      <td>UK4</td>\n",
              "      <td>Female</td>\n",
              "      <td>9.0</td>\n",
              "      <td>39-40</td>\n",
              "      <td>7.0</td>\n",
              "      <td>$159.00</td>\n",
              "      <td>0%</td>\n",
              "      <td>$159.00</td>\n",
              "    </tr>\n",
              "    <tr>\n",
              "      <th>...</th>\n",
              "      <td>...</td>\n",
              "      <td>...</td>\n",
              "      <td>...</td>\n",
              "      <td>...</td>\n",
              "      <td>...</td>\n",
              "      <td>...</td>\n",
              "      <td>...</td>\n",
              "      <td>...</td>\n",
              "      <td>...</td>\n",
              "      <td>...</td>\n",
              "      <td>...</td>\n",
              "      <td>...</td>\n",
              "    </tr>\n",
              "    <tr>\n",
              "      <th>14962</th>\n",
              "      <td>65773</td>\n",
              "      <td>12/31/2016</td>\n",
              "      <td>United Kingdom</td>\n",
              "      <td>2154</td>\n",
              "      <td>UK2</td>\n",
              "      <td>Male</td>\n",
              "      <td>9.5</td>\n",
              "      <td>42-43</td>\n",
              "      <td>9.0</td>\n",
              "      <td>$139.00</td>\n",
              "      <td>0%</td>\n",
              "      <td>$139.00</td>\n",
              "    </tr>\n",
              "    <tr>\n",
              "      <th>14963</th>\n",
              "      <td>65774</td>\n",
              "      <td>12/31/2016</td>\n",
              "      <td>United States</td>\n",
              "      <td>2181</td>\n",
              "      <td>US12</td>\n",
              "      <td>Female</td>\n",
              "      <td>12.0</td>\n",
              "      <td>42-43</td>\n",
              "      <td>10.0</td>\n",
              "      <td>$149.00</td>\n",
              "      <td>0%</td>\n",
              "      <td>$149.00</td>\n",
              "    </tr>\n",
              "    <tr>\n",
              "      <th>14964</th>\n",
              "      <td>65775</td>\n",
              "      <td>12/31/2016</td>\n",
              "      <td>Canada</td>\n",
              "      <td>2203</td>\n",
              "      <td>CAN6</td>\n",
              "      <td>Male</td>\n",
              "      <td>10.5</td>\n",
              "      <td>43-44</td>\n",
              "      <td>10.0</td>\n",
              "      <td>$179.00</td>\n",
              "      <td>30%</td>\n",
              "      <td>$125.30</td>\n",
              "    </tr>\n",
              "    <tr>\n",
              "      <th>14965</th>\n",
              "      <td>65776</td>\n",
              "      <td>12/31/2016</td>\n",
              "      <td>Germany</td>\n",
              "      <td>2231</td>\n",
              "      <td>GER1</td>\n",
              "      <td>Female</td>\n",
              "      <td>9.5</td>\n",
              "      <td>40</td>\n",
              "      <td>7.5</td>\n",
              "      <td>$199.00</td>\n",
              "      <td>0%</td>\n",
              "      <td>$199.00</td>\n",
              "    </tr>\n",
              "    <tr>\n",
              "      <th>14966</th>\n",
              "      <td>65777</td>\n",
              "      <td>12/31/2016</td>\n",
              "      <td>Germany</td>\n",
              "      <td>2156</td>\n",
              "      <td>GER1</td>\n",
              "      <td>Female</td>\n",
              "      <td>6.5</td>\n",
              "      <td>37</td>\n",
              "      <td>4.5</td>\n",
              "      <td>$139.00</td>\n",
              "      <td>10%</td>\n",
              "      <td>$125.10</td>\n",
              "    </tr>\n",
              "  </tbody>\n",
              "</table>\n",
              "<p>14967 rows × 12 columns</p>\n",
              "</div>\n",
              "      <button class=\"colab-df-convert\" onclick=\"convertToInteractive('df-f16f2725-c838-41d6-9970-609151797633')\"\n",
              "              title=\"Convert this dataframe to an interactive table.\"\n",
              "              style=\"display:none;\">\n",
              "        \n",
              "  <svg xmlns=\"http://www.w3.org/2000/svg\" height=\"24px\"viewBox=\"0 0 24 24\"\n",
              "       width=\"24px\">\n",
              "    <path d=\"M0 0h24v24H0V0z\" fill=\"none\"/>\n",
              "    <path d=\"M18.56 5.44l.94 2.06.94-2.06 2.06-.94-2.06-.94-.94-2.06-.94 2.06-2.06.94zm-11 1L8.5 8.5l.94-2.06 2.06-.94-2.06-.94L8.5 2.5l-.94 2.06-2.06.94zm10 10l.94 2.06.94-2.06 2.06-.94-2.06-.94-.94-2.06-.94 2.06-2.06.94z\"/><path d=\"M17.41 7.96l-1.37-1.37c-.4-.4-.92-.59-1.43-.59-.52 0-1.04.2-1.43.59L10.3 9.45l-7.72 7.72c-.78.78-.78 2.05 0 2.83L4 21.41c.39.39.9.59 1.41.59.51 0 1.02-.2 1.41-.59l7.78-7.78 2.81-2.81c.8-.78.8-2.07 0-2.86zM5.41 20L4 18.59l7.72-7.72 1.47 1.35L5.41 20z\"/>\n",
              "  </svg>\n",
              "      </button>\n",
              "      \n",
              "  <style>\n",
              "    .colab-df-container {\n",
              "      display:flex;\n",
              "      flex-wrap:wrap;\n",
              "      gap: 12px;\n",
              "    }\n",
              "\n",
              "    .colab-df-convert {\n",
              "      background-color: #E8F0FE;\n",
              "      border: none;\n",
              "      border-radius: 50%;\n",
              "      cursor: pointer;\n",
              "      display: none;\n",
              "      fill: #1967D2;\n",
              "      height: 32px;\n",
              "      padding: 0 0 0 0;\n",
              "      width: 32px;\n",
              "    }\n",
              "\n",
              "    .colab-df-convert:hover {\n",
              "      background-color: #E2EBFA;\n",
              "      box-shadow: 0px 1px 2px rgba(60, 64, 67, 0.3), 0px 1px 3px 1px rgba(60, 64, 67, 0.15);\n",
              "      fill: #174EA6;\n",
              "    }\n",
              "\n",
              "    [theme=dark] .colab-df-convert {\n",
              "      background-color: #3B4455;\n",
              "      fill: #D2E3FC;\n",
              "    }\n",
              "\n",
              "    [theme=dark] .colab-df-convert:hover {\n",
              "      background-color: #434B5C;\n",
              "      box-shadow: 0px 1px 3px 1px rgba(0, 0, 0, 0.15);\n",
              "      filter: drop-shadow(0px 1px 2px rgba(0, 0, 0, 0.3));\n",
              "      fill: #FFFFFF;\n",
              "    }\n",
              "  </style>\n",
              "\n",
              "      <script>\n",
              "        const buttonEl =\n",
              "          document.querySelector('#df-f16f2725-c838-41d6-9970-609151797633 button.colab-df-convert');\n",
              "        buttonEl.style.display =\n",
              "          google.colab.kernel.accessAllowed ? 'block' : 'none';\n",
              "\n",
              "        async function convertToInteractive(key) {\n",
              "          const element = document.querySelector('#df-f16f2725-c838-41d6-9970-609151797633');\n",
              "          const dataTable =\n",
              "            await google.colab.kernel.invokeFunction('convertToInteractive',\n",
              "                                                     [key], {});\n",
              "          if (!dataTable) return;\n",
              "\n",
              "          const docLinkHtml = 'Like what you see? Visit the ' +\n",
              "            '<a target=\"_blank\" href=https://colab.research.google.com/notebooks/data_table.ipynb>data table notebook</a>'\n",
              "            + ' to learn more about interactive tables.';\n",
              "          element.innerHTML = '';\n",
              "          dataTable['output_type'] = 'display_data';\n",
              "          await google.colab.output.renderOutput(dataTable, element);\n",
              "          const docLink = document.createElement('div');\n",
              "          docLink.innerHTML = docLinkHtml;\n",
              "          element.appendChild(docLink);\n",
              "        }\n",
              "      </script>\n",
              "    </div>\n",
              "  </div>\n",
              "  "
            ]
          },
          "metadata": {},
          "execution_count": 5
        }
      ]
    },
    {
      "cell_type": "code",
      "source": [
        "df['Date'] = pd.to_datetime(df['Date'])\n",
        "df['Year'] = df['Date'].dt.year\n",
        "df['Day'] = df['Date'].dt.day\n",
        "df['Month'] = df['Date'].dt.month"
      ],
      "metadata": {
        "id": "fnApoqLz-INg"
      },
      "execution_count": null,
      "outputs": []
    },
    {
      "cell_type": "code",
      "source": [
        "df['SalePrice'] = df['SalePrice'].apply(lambda x: float(x[2:]))\n",
        "df['UnitPrice'] = df['UnitPrice'].apply(lambda x: float(x[2:]))"
      ],
      "metadata": {
        "id": "m4Rnx6L0-vcz"
      },
      "execution_count": null,
      "outputs": []
    },
    {
      "cell_type": "code",
      "source": [
        "categorical_variables = ['Country', 'Gender', 'Size (US)', 'Discount', 'Year', 'Month']\n",
        "numerical_variables = ['UnitPrice', 'SalePrice']"
      ],
      "metadata": {
        "id": "zduzuPCj-88w"
      },
      "execution_count": null,
      "outputs": []
    },
    {
      "cell_type": "code",
      "source": [
        "for cat_variable in categorical_variables:\n",
        "    frequency = df[cat_variable].value_counts()\n",
        "    df_frequency = pd.DataFrame({cat_variable: frequency.index.tolist(), 'quantity': frequency.tolist()})\n",
        "    sns.barplot(x=cat_variable, y='quantity', data=df_frequency)\n",
        "    plt.show()"
      ],
      "metadata": {
        "colab": {
          "base_uri": "https://localhost:8080/",
          "height": 1000
        },
        "id": "zJ2p6E76_Poe",
        "outputId": "a93ef89a-0659-4647-cb4a-7ac5e3edf445"
      },
      "execution_count": null,
      "outputs": [
        {
          "output_type": "display_data",
          "data": {
            "text/plain": [
              "<Figure size 432x288 with 1 Axes>"
            ],
            "image/png": "[encoded data removed]"
          },
          "metadata": {
            "needs_background": "light"
          }
        },
        {
          "output_type": "display_data",
          "data": {
            "text/plain": [
              "<Figure size 432x288 with 1 Axes>"
            ],
            "image/png": "[encoded data removed]"
          },
          "metadata": {
            "needs_background": "light"
          }
        },
        {
          "output_type": "display_data",
          "data": {
            "text/plain": [
              "<Figure size 432x288 with 1 Axes>"
            ],
            "image/png": "[encoded data removed]"
          },
          "metadata": {
            "needs_background": "light"
          }
        },
        {
          "output_type": "display_data",
          "data": {
            "text/plain": [
              "<Figure size 432x288 with 1 Axes>"
            ],
            "image/png": "[encoded data removed]"
          },
          "metadata": {
            "needs_background": "light"
          }
        },
        {
          "output_type": "display_data",
          "data": {
            "text/plain": [
              "<Figure size 432x288 with 1 Axes>"
            ],
            "image/png": "[encoded data removed]"
          },
          "metadata": {
            "needs_background": "light"
          }
        },
        {
          "output_type": "display_data",
          "data": {
            "text/plain": [
              "<Figure size 432x288 with 1 Axes>"
            ],
            "image/png": "[encoded data removed]"
          },
          "metadata": {
            "needs_background": "light"
          }
        }
      ]
    },
    {
      "cell_type": "code",
      "source": [
        "frequency_shops = df['Shop'].value_counts().head(10)\n",
        "df_frequency_shops = pd.DataFrame({'shops': frequency_shops.index.tolist(), 'quantity': frequency_shops.tolist()})\n",
        "sns.barplot(x='shops', y='quantity', data=df_frequency_shops)\n",
        "plt.show()"
      ],
      "metadata": {
        "colab": {
          "base_uri": "https://localhost:8080/",
          "height": 279
        },
        "id": "DGQhuTSdBZUK",
        "outputId": "1923c5a3-6654-4ddb-f13c-2187f4aea37b"
      },
      "execution_count": null,
      "outputs": [
        {
          "output_type": "display_data",
          "data": {
            "text/plain": [
              "<Figure size 432x288 with 1 Axes>"
            ],
            "image/png": "[encoded data removed]"
          },
          "metadata": {
            "needs_background": "light"
          }
        }
      ]
    },
    {
      "cell_type": "code",
      "source": [
        "for num_variable in numerical_variables:\n",
        "    sns.histplot(df[num_variable], bins='auto')\n",
        "    plt.show()"
      ],
      "metadata": {
        "colab": {
          "base_uri": "https://localhost:8080/",
          "height": 541
        },
        "id": "Ed7628n__t-_",
        "outputId": "d9776d10-5bee-4eed-f82c-5108eebd8943"
      },
      "execution_count": null,
      "outputs": [
        {
          "output_type": "display_data",
          "data": {
            "text/plain": [
              "<Figure size 432x288 with 1 Axes>"
            ],
            "image/png": "[encoded data removed]"
          },
          "metadata": {
            "needs_background": "light"
          }
        },
        {
          "output_type": "display_data",
          "data": {
            "text/plain": [
              "<Figure size 432x288 with 1 Axes>"
            ],
            "image/png": "[encoded data removed]"
          },
          "metadata": {
            "needs_background": "light"
          }
        }
      ]
    },
    {
      "cell_type": "code",
      "source": [
        "corr = df.corr()\n",
        "sns.heatmap(corr, vmin=-1, vmax=1, center=0,cmap=sns.diverging_palette(20, 220, n=200),square=True)\n",
        "plt.show()"
      ],
      "metadata": {
        "colab": {
          "base_uri": "https://localhost:8080/",
          "height": 308
        },
        "id": "YTyYL_ze_ugO",
        "outputId": "dead071f-19f1-49e8-db4e-003b53810289"
      },
      "execution_count": null,
      "outputs": [
        {
          "output_type": "display_data",
          "data": {
            "text/plain": [
              "<Figure size 432x288 with 2 Axes>"
            ],
            "image/png": "[encoded data removed]"
          },
          "metadata": {
            "needs_background": "light"
          }
        }
      ]
    },
    {
      "cell_type": "code",
      "source": [
        "grouped = df[(df['Year'] != 2014) & (df['Gender'] == 'Male')\n",
        "             & (df['Country'] == 'United States')].groupby(\n",
        "             ['Size (US)', 'Year', 'Month']).size()\\\n",
        "             .unstack(level=0).fillna(value=0)"
      ],
      "metadata": {
        "id": "-cx4ptk9ATMe"
      },
      "execution_count": null,
      "outputs": []
    },
    {
      "cell_type": "code",
      "source": [
        "means = []\n",
        "standard_errors = []\n",
        "for column in grouped.columns:\n",
        "    means.append(grouped[column].mean())\n",
        "    standard_errors.append(grouped[column].sem())\n",
        "\n",
        "d = {'means': means, 'std_error': standard_errors}\n",
        "df_calculations = pd.DataFrame(data=d, index=grouped.columns)"
      ],
      "metadata": {
        "id": "_caa3LGdATLK"
      },
      "execution_count": null,
      "outputs": []
    },
    {
      "cell_type": "code",
      "source": [
        "df_calculations['error_margin'] = df_calculations['std_error'].apply(lambda x: x * 2.07)\n",
        "df_calculations['low_margin'] = df_calculations.apply(lambda x: x['means'] - x['error_margin'], axis=1)\n",
        "df_calculations['up_margin'] = df_calculations.apply(lambda x: x['means'] + x['error_margin'], axis=1)\n",
        "df_calculations['math_round_up'] = df_calculations.apply(lambda x: math.ceil(x['up_margin']), axis=1)\n",
        "df_calculations"
      ],
      "metadata": {
        "colab": {
          "base_uri": "https://localhost:8080/",
          "height": 582
        },
        "id": "62AfF4eeAa_6",
        "outputId": "7999ad84-68ce-4d27-e23b-837f5b991c20"
      },
      "execution_count": null,
      "outputs": [
        {
          "output_type": "execute_result",
          "data": {
            "text/plain": [
              "               means  std_error  error_margin  low_margin  up_margin  \\\n",
              "Size (US)                                                              \n",
              "6.0         2.166667   0.393179      0.813880    1.352787   2.980546   \n",
              "6.5         1.583333   0.340059      0.703922    0.879411   2.287255   \n",
              "7.0         1.333333   0.338725      0.701160    0.632174   2.034493   \n",
              "7.5         2.333333   0.411196      0.851176    1.482158   3.184509   \n",
              "8.0         4.791667   0.598849      1.239618    3.552049   6.031284   \n",
              "8.5         7.875000   0.944689      1.955505    5.919495   9.830505   \n",
              "9.0        16.333333   1.262139      2.612628   13.720705  18.945961   \n",
              "9.5        25.583333   1.766144      3.655917   21.927416  29.239251   \n",
              "10.0       18.791667   1.325583      2.743957   16.047709  21.535624   \n",
              "10.5       14.958333   1.020584      2.112608   12.845725  17.070942   \n",
              "11.0        7.541667   0.719750      1.489883    6.051784   9.031550   \n",
              "11.5        5.333333   0.582556      1.205892    4.127442   6.539225   \n",
              "12.0        3.083333   0.580219      1.201054    1.882279   4.284388   \n",
              "13.0        1.208333   0.255229      0.528324    0.680009   1.736658   \n",
              "14.0        1.958333   0.297813      0.616473    1.341860   2.574806   \n",
              "15.0        0.541667   0.190148      0.393607    0.148060   0.935274   \n",
              "\n",
              "           math_round_up  \n",
              "Size (US)                 \n",
              "6.0                    3  \n",
              "6.5                    3  \n",
              "7.0                    3  \n",
              "7.5                    4  \n",
              "8.0                    7  \n",
              "8.5                   10  \n",
              "9.0                   19  \n",
              "9.5                   30  \n",
              "10.0                  22  \n",
              "10.5                  18  \n",
              "11.0                  10  \n",
              "11.5                   7  \n",
              "12.0                   5  \n",
              "13.0                   2  \n",
              "14.0                   3  \n",
              "15.0                   1  "
            ],
            "text/html": [
              "\n",
              "  <div id=\"df-aada3e71-6403-4791-8627-5a38dc88dbce\">\n",
              "    <div class=\"colab-df-container\">\n",
              "      <div>\n",
              "<style scoped>\n",
              "    .dataframe tbody tr th:only-of-type {\n",
              "        vertical-align: middle;\n",
              "    }\n",
              "\n",
              "    .dataframe tbody tr th {\n",
              "        vertical-align: top;\n",
              "    }\n",
              "\n",
              "    .dataframe thead th {\n",
              "        text-align: right;\n",
              "    }\n",
              "</style>\n",
              "<table border=\"1\" class=\"dataframe\">\n",
              "  <thead>\n",
              "    <tr style=\"text-align: right;\">\n",
              "      <th></th>\n",
              "      <th>means</th>\n",
              "      <th>std_error</th>\n",
              "      <th>error_margin</th>\n",
              "      <th>low_margin</th>\n",
              "      <th>up_margin</th>\n",
              "      <th>math_round_up</th>\n",
              "    </tr>\n",
              "    <tr>\n",
              "      <th>Size (US)</th>\n",
              "      <th></th>\n",
              "      <th></th>\n",
              "      <th></th>\n",
              "      <th></th>\n",
              "      <th></th>\n",
              "      <th></th>\n",
              "    </tr>\n",
              "  </thead>\n",
              "  <tbody>\n",
              "    <tr>\n",
              "      <th>6.0</th>\n",
              "      <td>2.166667</td>\n",
              "      <td>0.393179</td>\n",
              "      <td>0.813880</td>\n",
              "      <td>1.352787</td>\n",
              "      <td>2.980546</td>\n",
              "      <td>3</td>\n",
              "    </tr>\n",
              "    <tr>\n",
              "      <th>6.5</th>\n",
              "      <td>1.583333</td>\n",
              "      <td>0.340059</td>\n",
              "      <td>0.703922</td>\n",
              "      <td>0.879411</td>\n",
              "      <td>2.287255</td>\n",
              "      <td>3</td>\n",
              "    </tr>\n",
              "    <tr>\n",
              "      <th>7.0</th>\n",
              "      <td>1.333333</td>\n",
              "      <td>0.338725</td>\n",
              "      <td>0.701160</td>\n",
              "      <td>0.632174</td>\n",
              "      <td>2.034493</td>\n",
              "      <td>3</td>\n",
              "    </tr>\n",
              "    <tr>\n",
              "      <th>7.5</th>\n",
              "      <td>2.333333</td>\n",
              "      <td>0.411196</td>\n",
              "      <td>0.851176</td>\n",
              "      <td>1.482158</td>\n",
              "      <td>3.184509</td>\n",
              "      <td>4</td>\n",
              "    </tr>\n",
              "    <tr>\n",
              "      <th>8.0</th>\n",
              "      <td>4.791667</td>\n",
              "      <td>0.598849</td>\n",
              "      <td>1.239618</td>\n",
              "      <td>3.552049</td>\n",
              "      <td>6.031284</td>\n",
              "      <td>7</td>\n",
              "    </tr>\n",
              "    <tr>\n",
              "      <th>8.5</th>\n",
              "      <td>7.875000</td>\n",
              "      <td>0.944689</td>\n",
              "      <td>1.955505</td>\n",
              "      <td>5.919495</td>\n",
              "      <td>9.830505</td>\n",
              "      <td>10</td>\n",
              "    </tr>\n",
              "    <tr>\n",
              "      <th>9.0</th>\n",
              "      <td>16.333333</td>\n",
              "      <td>1.262139</td>\n",
              "      <td>2.612628</td>\n",
              "      <td>13.720705</td>\n",
              "      <td>18.945961</td>\n",
              "      <td>19</td>\n",
              "    </tr>\n",
              "    <tr>\n",
              "      <th>9.5</th>\n",
              "      <td>25.583333</td>\n",
              "      <td>1.766144</td>\n",
              "      <td>3.655917</td>\n",
              "      <td>21.927416</td>\n",
              "      <td>29.239251</td>\n",
              "      <td>30</td>\n",
              "    </tr>\n",
              "    <tr>\n",
              "      <th>10.0</th>\n",
              "      <td>18.791667</td>\n",
              "      <td>1.325583</td>\n",
              "      <td>2.743957</td>\n",
              "      <td>16.047709</td>\n",
              "      <td>21.535624</td>\n",
              "      <td>22</td>\n",
              "    </tr>\n",
              "    <tr>\n",
              "      <th>10.5</th>\n",
              "      <td>14.958333</td>\n",
              "      <td>1.020584</td>\n",
              "      <td>2.112608</td>\n",
              "      <td>12.845725</td>\n",
              "      <td>17.070942</td>\n",
              "      <td>18</td>\n",
              "    </tr>\n",
              "    <tr>\n",
              "      <th>11.0</th>\n",
              "      <td>7.541667</td>\n",
              "      <td>0.719750</td>\n",
              "      <td>1.489883</td>\n",
              "      <td>6.051784</td>\n",
              "      <td>9.031550</td>\n",
              "      <td>10</td>\n",
              "    </tr>\n",
              "    <tr>\n",
              "      <th>11.5</th>\n",
              "      <td>5.333333</td>\n",
              "      <td>0.582556</td>\n",
              "      <td>1.205892</td>\n",
              "      <td>4.127442</td>\n",
              "      <td>6.539225</td>\n",
              "      <td>7</td>\n",
              "    </tr>\n",
              "    <tr>\n",
              "      <th>12.0</th>\n",
              "      <td>3.083333</td>\n",
              "      <td>0.580219</td>\n",
              "      <td>1.201054</td>\n",
              "      <td>1.882279</td>\n",
              "      <td>4.284388</td>\n",
              "      <td>5</td>\n",
              "    </tr>\n",
              "    <tr>\n",
              "      <th>13.0</th>\n",
              "      <td>1.208333</td>\n",
              "      <td>0.255229</td>\n",
              "      <td>0.528324</td>\n",
              "      <td>0.680009</td>\n",
              "      <td>1.736658</td>\n",
              "      <td>2</td>\n",
              "    </tr>\n",
              "    <tr>\n",
              "      <th>14.0</th>\n",
              "      <td>1.958333</td>\n",
              "      <td>0.297813</td>\n",
              "      <td>0.616473</td>\n",
              "      <td>1.341860</td>\n",
              "      <td>2.574806</td>\n",
              "      <td>3</td>\n",
              "    </tr>\n",
              "    <tr>\n",
              "      <th>15.0</th>\n",
              "      <td>0.541667</td>\n",
              "      <td>0.190148</td>\n",
              "      <td>0.393607</td>\n",
              "      <td>0.148060</td>\n",
              "      <td>0.935274</td>\n",
              "      <td>1</td>\n",
              "    </tr>\n",
              "  </tbody>\n",
              "</table>\n",
              "</div>\n",
              "      <button class=\"colab-df-convert\" onclick=\"convertToInteractive('df-aada3e71-6403-4791-8627-5a38dc88dbce')\"\n",
              "              title=\"Convert this dataframe to an interactive table.\"\n",
              "              style=\"display:none;\">\n",
              "        \n",
              "  <svg xmlns=\"http://www.w3.org/2000/svg\" height=\"24px\"viewBox=\"0 0 24 24\"\n",
              "       width=\"24px\">\n",
              "    <path d=\"M0 0h24v24H0V0z\" fill=\"none\"/>\n",
              "    <path d=\"M18.56 5.44l.94 2.06.94-2.06 2.06-.94-2.06-.94-.94-2.06-.94 2.06-2.06.94zm-11 1L8.5 8.5l.94-2.06 2.06-.94-2.06-.94L8.5 2.5l-.94 2.06-2.06.94zm10 10l.94 2.06.94-2.06 2.06-.94-2.06-.94-.94-2.06-.94 2.06-2.06.94z\"/><path d=\"M17.41 7.96l-1.37-1.37c-.4-.4-.92-.59-1.43-.59-.52 0-1.04.2-1.43.59L10.3 9.45l-7.72 7.72c-.78.78-.78 2.05 0 2.83L4 21.41c.39.39.9.59 1.41.59.51 0 1.02-.2 1.41-.59l7.78-7.78 2.81-2.81c.8-.78.8-2.07 0-2.86zM5.41 20L4 18.59l7.72-7.72 1.47 1.35L5.41 20z\"/>\n",
              "  </svg>\n",
              "      </button>\n",
              "      \n",
              "  <style>\n",
              "    .colab-df-container {\n",
              "      display:flex;\n",
              "      flex-wrap:wrap;\n",
              "      gap: 12px;\n",
              "    }\n",
              "\n",
              "    .colab-df-convert {\n",
              "      background-color: #E8F0FE;\n",
              "      border: none;\n",
              "      border-radius: 50%;\n",
              "      cursor: pointer;\n",
              "      display: none;\n",
              "      fill: #1967D2;\n",
              "      height: 32px;\n",
              "      padding: 0 0 0 0;\n",
              "      width: 32px;\n",
              "    }\n",
              "\n",
              "    .colab-df-convert:hover {\n",
              "      background-color: #E2EBFA;\n",
              "      box-shadow: 0px 1px 2px rgba(60, 64, 67, 0.3), 0px 1px 3px 1px rgba(60, 64, 67, 0.15);\n",
              "      fill: #174EA6;\n",
              "    }\n",
              "\n",
              "    [theme=dark] .colab-df-convert {\n",
              "      background-color: #3B4455;\n",
              "      fill: #D2E3FC;\n",
              "    }\n",
              "\n",
              "    [theme=dark] .colab-df-convert:hover {\n",
              "      background-color: #434B5C;\n",
              "      box-shadow: 0px 1px 3px 1px rgba(0, 0, 0, 0.15);\n",
              "      filter: drop-shadow(0px 1px 2px rgba(0, 0, 0, 0.3));\n",
              "      fill: #FFFFFF;\n",
              "    }\n",
              "  </style>\n",
              "\n",
              "      <script>\n",
              "        const buttonEl =\n",
              "          document.querySelector('#df-aada3e71-6403-4791-8627-5a38dc88dbce button.colab-df-convert');\n",
              "        buttonEl.style.display =\n",
              "          google.colab.kernel.accessAllowed ? 'block' : 'none';\n",
              "\n",
              "        async function convertToInteractive(key) {\n",
              "          const element = document.querySelector('#df-aada3e71-6403-4791-8627-5a38dc88dbce');\n",
              "          const dataTable =\n",
              "            await google.colab.kernel.invokeFunction('convertToInteractive',\n",
              "                                                     [key], {});\n",
              "          if (!dataTable) return;\n",
              "\n",
              "          const docLinkHtml = 'Like what you see? Visit the ' +\n",
              "            '<a target=\"_blank\" href=https://colab.research.google.com/notebooks/data_table.ipynb>data table notebook</a>'\n",
              "            + ' to learn more about interactive tables.';\n",
              "          element.innerHTML = '';\n",
              "          dataTable['output_type'] = 'display_data';\n",
              "          await google.colab.output.renderOutput(dataTable, element);\n",
              "          const docLink = document.createElement('div');\n",
              "          docLink.innerHTML = docLinkHtml;\n",
              "          element.appendChild(docLink);\n",
              "        }\n",
              "      </script>\n",
              "    </div>\n",
              "  </div>\n",
              "  "
            ]
          },
          "metadata": {},
          "execution_count": 30
        }
      ]
    },
    {
      "cell_type": "code",
      "source": [
        "df_calculations.info()"
      ],
      "metadata": {
        "colab": {
          "base_uri": "https://localhost:8080/"
        },
        "id": "x4d39SSiAgbu",
        "outputId": "c9873b8a-59f6-4063-a17e-29ad7049ee9c"
      },
      "execution_count": null,
      "outputs": [
        {
          "output_type": "stream",
          "name": "stdout",
          "text": [
            "<class 'pandas.core.frame.DataFrame'>\n",
            "Float64Index: 16 entries, 6.0 to 15.0\n",
            "Data columns (total 6 columns):\n",
            " #   Column         Non-Null Count  Dtype  \n",
            "---  ------         --------------  -----  \n",
            " 0   means          16 non-null     float64\n",
            " 1   std_error      16 non-null     float64\n",
            " 2   error_margin   16 non-null     float64\n",
            " 3   low_margin     16 non-null     float64\n",
            " 4   up_margin      16 non-null     float64\n",
            " 5   math_round_up  16 non-null     int64  \n",
            "dtypes: float64(5), int64(1)\n",
            "memory usage: 1.4 KB\n"
          ]
        }
      ]
    },
    {
      "cell_type": "code",
      "source": [
        "plt.figure(figsize=(15,8))\n",
        "sns.barplot(x = df_calculations.index , y = 'means', data = df_calculations, ci = None)\n",
        "plt.show()"
      ],
      "metadata": {
        "colab": {
          "base_uri": "https://localhost:8080/",
          "height": 497
        },
        "id": "Rmc0qRxDE_cz",
        "outputId": "e792dcc7-5cfc-475b-d2ae-8a25aa17b750"
      },
      "execution_count": null,
      "outputs": [
        {
          "output_type": "display_data",
          "data": {
            "text/plain": [
              "<Figure size 1080x576 with 1 Axes>"
            ],
            "image/png": "[encoded data removed]"
          },
          "metadata": {
            "needs_background": "light"
          }
        }
      ]
    }
  ]
}